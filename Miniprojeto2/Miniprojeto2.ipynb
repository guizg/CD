{
 "cells": [
  {
   "cell_type": "markdown",
   "metadata": {},
   "source": [
    "# Mini projeto 2\n",
    "## Integrantes: Bruno Leite, Bruno Bitelli e Guilherme Graicer"
   ]
  },
  {
   "cell_type": "markdown",
   "metadata": {},
   "source": [
    "Em tal projeto, serão feitas simulações com o intuito de compreender e explicar o Teorema do Limite Central (TLC). Para isso será utilizada como base uma distribuição exponencial."
   ]
  },
  {
   "cell_type": "code",
   "execution_count": 1,
   "metadata": {
    "collapsed": true
   },
   "outputs": [],
   "source": [
    "%matplotlib inline\n",
    "from scipy.stats import expon\n",
    "import matplotlib.pyplot as plt\n",
    "import numpy as np\n",
    "from scipy.stats.stats import pearsonr"
   ]
  },
  {
   "cell_type": "code",
   "execution_count": 2,
   "metadata": {
    "collapsed": false
   },
   "outputs": [
    {
     "data": {
      "image/png": "[encoded data removed]",
      "text/plain": [
       "<matplotlib.figure.Figure at 0x1e824e918d0>"
      ]
     },
     "metadata": {},
     "output_type": "display_data"
    },
    {
     "name": "stdout",
     "output_type": "stream",
     "text": [
      "Média: 1.00147747428\n",
      "Variância: 1.00293014558\n"
     ]
    }
   ],
   "source": [
    "x = expon.rvs(size=1000000)\n",
    "plt.hist(x, bins=100,normed=True)\n",
    "plt.title(\"Distribuição exponencial\")\n",
    "plt.show()\n",
    "\n",
    "med_x=0\n",
    "var_x=0\n",
    "for i in range(len(x)):\n",
    "    med_x+=(x[i]/len(x))\n",
    "for i in range(len(x)):\n",
    "    var_x+=((x[i]-med_x)**2)/len(x)\n",
    "print(\"Média:\", med_x)\n",
    "print(\"Variância:\",var_x)"
   ]
  },
  {
   "cell_type": "markdown",
   "metadata": {},
   "source": [
    "Na célula acima foi simulada uma distribuição exponencial. Para tanto foi definida a distribuição exponencial e, a partir dela, foram sorteados aleatóriamente 1000000 valores dessa distribuição e estes serão os valores da população. Além disso foi calculada a média desses valores assim como a variância."
   ]
  },
  {
   "cell_type": "code",
   "execution_count": 3,
   "metadata": {
    "collapsed": false
   },
   "outputs": [
    {
     "data": {
      "image/png": "[encoded data removed]",
      "text/plain": [
       "<matplotlib.figure.Figure at 0x1e825270ba8>"
      ]
     },
     "metadata": {},
     "output_type": "display_data"
    },
    {
     "name": "stdout",
     "output_type": "stream",
     "text": [
      "Média das médias amostrais: 0.992344081236\n",
      "Variância das médias amostrais: 0.501904087813\n"
     ]
    }
   ],
   "source": [
    "med_dois=0\n",
    "lista_dois=[]\n",
    "for i in range(10000):\n",
    "    dois=np.random.choice\n",
    "    for j in range(2):\n",
    "        med_dois+=(dois(x,2)[j]/2)\n",
    "    lista_dois.append(med_dois)\n",
    "    med_dois=0\n",
    "plt.hist(lista_dois,bins=100,normed=True)\n",
    "plt.title(\"n=2\")\n",
    "plt.show()\n",
    "\n",
    "MED_dois=0\n",
    "Var_dois=0\n",
    "for i in range(len(lista_dois)):\n",
    "    MED_dois+=(lista_dois[i]/len(lista_dois))\n",
    "for i in range(len(lista_dois)):\n",
    "    Var_dois+=((lista_dois[i]-MED_dois)**2)/len(lista_dois)\n",
    "print(\"Média das médias amostrais:\", MED_dois)\n",
    "print(\"Variância das médias amostrais:\",Var_dois)"
   ]
  },
  {
   "cell_type": "markdown",
   "metadata": {},
   "source": [
    "No histograma acima, foi construida a distribuição da média amostral com n=2. Ou seja, foram retirados dois valores aleatórios da população e foi feita a média dos mesmos. Esse processo foi repetido 10000 vezes e, com esses valores (das médias amostrais), foi construido um histograma. Por fim, foram calculados os valores de média e variância das médias amostrais. \n",
    "\n",
    "Para confrontar os valores obtidos e os resultados aguardados pelo TLC, é preciso saber que o TLC prevê que: a distribuição das médias amostrais tende a uma distribuição normal conforme o valor de n aumenta; a média dessa distribuição é aproximadamente igual à média da população; e a variância é aproximadamente igual à variância da população dividido por n. \n",
    "\n",
    "Dessa forma, interpreta-se que tanto o histograma quanto a média e a variância estão de acordo com os resultados aguardados pelo TLC. O histograma parece estar deixando sua distribuição exponencial e assimétrica e se assemelhando - ainda que muito pouco - de uma distribuição normal. A sua média é praticamente igual à média da população, assim como a variância é praticamente igual ao valor da divisão da variância da população por n(=2)."
   ]
  },
  {
   "cell_type": "code",
   "execution_count": 4,
   "metadata": {
    "collapsed": false
   },
   "outputs": [
    {
     "data": {
      "image/png": "[encoded data removed]",
      "text/plain": [
       "<matplotlib.figure.Figure at 0x1e825320080>"
      ]
     },
     "metadata": {},
     "output_type": "display_data"
    },
    {
     "name": "stdout",
     "output_type": "stream",
     "text": [
      "Média das médias amostrais: 0.999957528631\n",
      "Variância das médias amostrais: 0.251472356574\n"
     ]
    }
   ],
   "source": [
    "med_quatro=0\n",
    "lista_quatro=[]\n",
    "for i in range(10000):\n",
    "    quatro=np.random.choice(x,4)\n",
    "    for j in range(4):\n",
    "        med_quatro+=(quatro[j]/4)\n",
    "    lista_quatro.append(med_quatro)\n",
    "    med_quatro=0\n",
    "plt.hist(lista_quatro,bins=100,normed=True)\n",
    "plt.title(\"n=4\")\n",
    "plt.show()\n",
    "\n",
    "MED_quatro=0\n",
    "Var_quatro=0\n",
    "for i in range(len(lista_quatro)):\n",
    "    MED_quatro+=(lista_quatro[i]/len(lista_quatro))\n",
    "for i in range(len(lista_quatro)):\n",
    "    Var_quatro+=((lista_quatro[i]-MED_quatro)**2)/len(lista_quatro)\n",
    "print(\"Média das médias amostrais:\", MED_quatro)\n",
    "print(\"Variância das médias amostrais:\",Var_quatro)"
   ]
  },
  {
   "cell_type": "markdown",
   "metadata": {},
   "source": [
    "No código acima foi feita a mesma coia que no anterior, entretanto o valor de n deixou de ser 2 e passou a ser 4.\n",
    "\n",
    "O histograma parece menos com uma distribuição exponencial e se assemelha mais com uma distribuição normal (em relação ao histograma das médias amostrais com n=2). Além disso, sua média é praticamente igual à media da população. Já sua variância é próxima do valor da divisão da variância da população pelo n(=4). Portando, pode-se afirmar que os resultados estão de acordo com o que era aguardade pelo TLC."
   ]
  },
  {
   "cell_type": "code",
   "execution_count": 5,
   "metadata": {
    "collapsed": false
   },
   "outputs": [
    {
     "data": {
      "image/png": "[encoded data removed]",
      "text/plain": [
       "<matplotlib.figure.Figure at 0x1e825ac03c8>"
      ]
     },
     "metadata": {},
     "output_type": "display_data"
    },
    {
     "name": "stdout",
     "output_type": "stream",
     "text": [
      "Média das médias amostrais: 0.999211279292\n",
      "Variância das médias amostrais: 0.0490766455633\n"
     ]
    }
   ],
   "source": [
    "med_vinte=0\n",
    "lista_vinte=[]\n",
    "for i in range(10000):\n",
    "    for j in range(20):\n",
    "        vinte=np.random.choice(x,20)\n",
    "        med_vinte+=(vinte[j]/20)\n",
    "    lista_vinte.append(med_vinte)\n",
    "    med_vinte=0\n",
    "plt.hist(lista_vinte,bins=100,normed=True)\n",
    "plt.title(\"n=20\")\n",
    "plt.show()\n",
    "\n",
    "MED_vinte=0\n",
    "Var_vinte=0\n",
    "for i in range(len(lista_vinte)):\n",
    "    MED_vinte+=(lista_vinte[i]/len(lista_vinte))\n",
    "for i in range(len(lista_vinte)):\n",
    "    Var_vinte+=((lista_vinte[i]-MED_vinte)**2)/len(lista_vinte)\n",
    "print(\"Média das médias amostrais:\", MED_vinte)\n",
    "print(\"Variância das médias amostrais:\",Var_vinte)"
   ]
  },
  {
   "cell_type": "markdown",
   "metadata": {},
   "source": [
    "Ao repetir, com n=20, o mesmo processo que foi realizado nas células anteriores, pôde-se observar que a distribuição está se aproximando cada vez mais de uma distribuição normal. Além disso, os  valores de média e variância das médias amostrais estão de acordo com o esperado pelo TLC."
   ]
  },
  {
   "cell_type": "code",
   "execution_count": 6,
   "metadata": {
    "collapsed": false,
    "scrolled": true
   },
   "outputs": [
    {
     "data": {
      "image/png": "[encoded data removed]",
      "text/plain": [
       "<matplotlib.figure.Figure at 0x1e825b847f0>"
      ]
     },
     "metadata": {},
     "output_type": "display_data"
    },
    {
     "name": "stdout",
     "output_type": "stream",
     "text": [
      "Média das médias amostrais: 1.00306213827\n",
      "Variância das médias amostrais: 0.0203824429565\n"
     ]
    }
   ],
   "source": [
    "med_cinquenta=0\n",
    "lista_cinquenta=[]\n",
    "lista_x1=[]\n",
    "lista_x9=[]\n",
    "for i in range(10000):\n",
    "    cinquenta=np.random.choice(x,50)\n",
    "    for j in range(50):\n",
    "        if j==1:\n",
    "            lista_x1.append(cinquenta[j])\n",
    "        elif j==9:\n",
    "            lista_x9.append(cinquenta[j])\n",
    "        med_cinquenta+=(cinquenta[j]/50)\n",
    "    lista_cinquenta.append(med_cinquenta)\n",
    "    med_cinquenta=0\n",
    "plt.hist(lista_cinquenta,bins=100,normed=True)\n",
    "plt.title(\"n=50\")\n",
    "plt.show()\n",
    "\n",
    "MED_cinquenta=0\n",
    "Var_cinquenta=0\n",
    "for i in range(len(lista_cinquenta)):\n",
    "    MED_cinquenta+=(lista_cinquenta[i]/len(lista_cinquenta))\n",
    "for i in range(len(lista_cinquenta)):\n",
    "    Var_cinquenta+=((lista_cinquenta[i]-MED_cinquenta)**2)/len(lista_cinquenta)\n",
    "print(\"Média das médias amostrais:\", MED_cinquenta)\n",
    "print(\"Variância das médias amostrais:\",Var_cinquenta)"
   ]
  },
  {
   "cell_type": "markdown",
   "metadata": {},
   "source": [
    "Por último, o processo foi repetido com um n ainda maior (n=50).\n",
    "\n",
    "No histograma das médias amostrais que foi plotado, a distribuição é praticamente idêntica a uma distribuição normal. Tal distribuição tem média igual a 1 (como era esperado pelo TLC) e variância aproximadamente igual a 0.19 (como era esperado pelo TLC - variância da população sobre 50).\n",
    "\n",
    "\n",
    "Portanto, de um modo geral já é possível compreender o TLC a partir de tais simulações. Pôde-se verificar que: \n",
    "* Para um valor de n grande, a distribuição das médias amostrais é bem próxima de uma distribuição normal.\n",
    "* A média de tal distribuição normal é praticamente idêntica à média da população.\n",
    "* A variância desaa nova distribuição é aproximadamente igual à variância da população sobre o núnmero de n (amostra).\n",
    "\n",
    "O TLC prevê que: a distribuição das médias amostrais tende a uma distribuição normal conforme o valor de n aumenta; a média dessa distribuição é aproximadamente igual à média da população; e a variância é aproximadamente igual à variância da população dividido por n, dessa forma, interpreta-se que tanto o histograma quanto a média e a variância estão de acordo com os resultados aguardados pelo TLC. Para testar o TLC, foi crida uma lista com 10000 numeros de 0 a 1 distribuidos exponencialmente. Após isso foram pegas 10.000 amostras aleatórias de 2 números da lista principal, calculado a média de todas elas que então foram colocadas num histograma. Verificamos que o histograma começa a ficar menos parecido com a exponencial e mais com a normal (como dita o TCL). Finalmente, repetimos o processo com amostras de 4, 20 e 50 números e o último histograma estava quase uma curva normal perfeita com a média igual a inicial e a variância igual a prevista no teorema."
   ]
  },
  {
   "cell_type": "code",
   "execution_count": 7,
   "metadata": {
    "collapsed": false,
    "scrolled": true
   },
   "outputs": [
    {
     "data": {
      "image/png": "[encoded data removed]",
      "text/plain": [
       "<matplotlib.figure.Figure at 0x1e825dc3e10>"
      ]
     },
     "metadata": {},
     "output_type": "display_data"
    },
    {
     "name": "stdout",
     "output_type": "stream",
     "text": [
      "Média: 1.00916229301\n",
      "Variância: 0.984827204804\n"
     ]
    }
   ],
   "source": [
    "plt.hist(lista_x1,bins=100,normed=True)\n",
    "plt.title(\"Primeiro valor de cada amostra\")\n",
    "plt.show()\n",
    "MED_x1=0\n",
    "Var_x1=0\n",
    "for i in range(len(lista_x1)):\n",
    "    MED_x1+=(lista_x1[i]/len(lista_x1))\n",
    "for i in range(len(lista_x1)):\n",
    "    Var_x1+=((lista_x1[i]-MED_x1)**2)/len(lista_x1)\n",
    "print(\"Média:\", MED_x1)\n",
    "print(\"Variância:\",Var_x1)"
   ]
  },
  {
   "cell_type": "code",
   "execution_count": 8,
   "metadata": {
    "collapsed": false
   },
   "outputs": [
    {
     "data": {
      "image/png": "[encoded data removed]",
      "text/plain": [
       "<matplotlib.figure.Figure at 0x1e825be7c50>"
      ]
     },
     "metadata": {},
     "output_type": "display_data"
    },
    {
     "name": "stdout",
     "output_type": "stream",
     "text": [
      "Média: 1.01098276588\n",
      "Variância: 1.05154502604\n"
     ]
    }
   ],
   "source": [
    "plt.hist(lista_x9,bins=100,normed=True)\n",
    "plt.title(\"Nono valor de cada amostra\")\n",
    "plt.show()\n",
    "MED_x9=0\n",
    "Var_x9=0\n",
    "for i in range(len(lista_x9)):\n",
    "    MED_x9+=(lista_x9[i]/len(lista_x9))\n",
    "for i in range(len(lista_x9)):\n",
    "    Var_x9+=((lista_x9[i]-MED_x9)**2)/len(lista_x9)\n",
    "print(\"Média:\", MED_x9)\n",
    "print(\"Variância:\",Var_x9)"
   ]
  },
  {
   "cell_type": "code",
   "execution_count": 13,
   "metadata": {
    "collapsed": false
   },
   "outputs": [
    {
     "name": "stdout",
     "output_type": "stream",
     "text": [
      "A Correlacao entre essas variaveis independentes e aleatorias é:  0.0103112577501 (proxima de 0 como o esperado)\n"
     ]
    }
   ],
   "source": [
    "correlacaoxy = np.corrcoef(lista_x1, lista_x9)[0,1]\n",
    "print(\"A Correlacao entre essas variaveis independentes e aleatorias é: \", correlacaoxy, \"(proxima de 0 como o esperado)\")"
   ]
  },
  {
   "cell_type": "code",
   "execution_count": null,
   "metadata": {
    "collapsed": true
   },
   "outputs": [],
   "source": []
  },
  {
   "cell_type": "code",
   "execution_count": null,
   "metadata": {
    "collapsed": true
   },
   "outputs": [],
   "source": []
  }
 ],
 "metadata": {
  "kernelspec": {
   "display_name": "Python 3",
   "language": "python",
   "name": "python3"
  },
  "language_info": {
   "codemirror_mode": {
    "name": "ipython",
    "version": 3
   },
   "file_extension": ".py",
   "mimetype": "text/x-python",
   "name": "python",
   "nbconvert_exporter": "python",
   "pygments_lexer": "ipython3",
   "version": "3.5.1"
  }
 },
 "nbformat": 4,
 "nbformat_minor": 0
}
