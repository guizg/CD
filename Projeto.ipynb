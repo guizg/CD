{
 "cells": [
  {
   "cell_type": "markdown",
   "metadata": {},
   "source": [
    "___\n",
    "# PROJETO 1"
   ]
  },
  {
   "cell_type": "markdown",
   "metadata": {},
   "source": [
    "## <font color='red'>Guilherme Zaborowsky Graicer</font>\n",
    "___"
   ]
  },
  {
   "cell_type": "markdown",
   "metadata": {},
   "source": [
    "## <font color='blue'>Desigualdade de Gênero entre aposentados (2011, 2013, 2014)</font>"
   ]
  },
  {
   "cell_type": "markdown",
   "metadata": {},
   "source": [
    "## Introdução\n",
    "\n",
    "O projeto tem como foco um tema que vem sendo discutido cada vez mais no Brasil, a desigualdade de gênero. Mais especificamente as diferenças de renda entre os aposentados (homens e mulheres) da região Sul do Brasil. Para analisar isso, foram usadas as Pesquisas Nacionais por Amostra de Domicílios (PNADs), de 2011, 2013 e 2014.\n",
    "\n",
    "Como exeplo de pesquisa, foi esoclhida a tese \"PROTEÇÃO SOCIAL, APOSENTADORIAS, PENSÕES E GÊNERO NO BRASIL\", de Enid Rocha da Silva e Helmut Schwarzer (http://repositorio.ipea.gov.br/bitstream/11058/2830/1/TD_934.pdf). Essa pesquisa foi feita em Brasilia 2002, e discute as diferenças de gênero na refoma previdenciaria da época usando assim dados parecidos com os desse trabalho. Essa pesquisa utiliza varios gráficos e tabelas, recursos visuais muito ricos."
   ]
  },
  {
   "cell_type": "markdown",
   "metadata": {},
   "source": [
    "___\n",
    "## Análise e Resultados"
   ]
  },
  {
   "cell_type": "code",
   "execution_count": 8,
   "metadata": {
    "collapsed": true
   },
   "outputs": [],
   "source": [
    "%matplotlib inline\n",
    "import pandas as pd\n",
    "import matplotlib.pyplot as plt\n",
    "import os\n",
    "import numpy as np\n",
    "import warnings\n",
    "warnings.filterwarnings('ignore')"
   ]
  },
  {
   "cell_type": "code",
   "execution_count": 9,
   "metadata": {
    "collapsed": false
   },
   "outputs": [
    {
     "name": "stdout",
     "output_type": "stream",
     "text": [
      "Esperamos trabalhar no diretório\n",
      "C:\\Users\\GuilhermeZaborowsky\\Documents\\Escola\\Insper\\Ciência dos Dados\\Projeto 1\n"
     ]
    }
   ],
   "source": [
    "print('Esperamos trabalhar no diretório')\n",
    "print(os.getcwd())"
   ]
  },
  {
   "cell_type": "markdown",
   "metadata": {},
   "source": [
    "### Primeiramente, foram inicializadas as PNADs"
   ]
  },
  {
   "cell_type": "code",
   "execution_count": 10,
   "metadata": {
    "collapsed": false
   },
   "outputs": [
    {
     "data": {
      "text/html": [
       "<div>\n",
       "<table border=\"1\" class=\"dataframe\">\n",
       "  <thead>\n",
       "    <tr style=\"text-align: right;\">\n",
       "      <th></th>\n",
       "      <th>Unnamed: 0</th>\n",
       "      <th>V0101</th>\n",
       "      <th>UF</th>\n",
       "      <th>V0102</th>\n",
       "      <th>V0103</th>\n",
       "      <th>V0301</th>\n",
       "      <th>V0302</th>\n",
       "      <th>V3031</th>\n",
       "      <th>V3032</th>\n",
       "      <th>V3033</th>\n",
       "      <th>...</th>\n",
       "      <th>V4741</th>\n",
       "      <th>V4742</th>\n",
       "      <th>V4743</th>\n",
       "      <th>V4745</th>\n",
       "      <th>V4746</th>\n",
       "      <th>V4747</th>\n",
       "      <th>V4748</th>\n",
       "      <th>V4749</th>\n",
       "      <th>V4750</th>\n",
       "      <th>V9993</th>\n",
       "    </tr>\n",
       "  </thead>\n",
       "  <tbody>\n",
       "    <tr>\n",
       "      <th>0</th>\n",
       "      <td>0</td>\n",
       "      <td>2014</td>\n",
       "      <td>11</td>\n",
       "      <td>15</td>\n",
       "      <td>1</td>\n",
       "      <td>1</td>\n",
       "      <td>2</td>\n",
       "      <td>19</td>\n",
       "      <td>8</td>\n",
       "      <td>1987</td>\n",
       "      <td>...</td>\n",
       "      <td>3</td>\n",
       "      <td>500</td>\n",
       "      <td>3</td>\n",
       "      <td>3</td>\n",
       "      <td>1</td>\n",
       "      <td>2</td>\n",
       "      <td>2</td>\n",
       "      <td>1</td>\n",
       "      <td>500</td>\n",
       "      <td>20160623</td>\n",
       "    </tr>\n",
       "    <tr>\n",
       "      <th>1</th>\n",
       "      <td>1</td>\n",
       "      <td>2014</td>\n",
       "      <td>11</td>\n",
       "      <td>15</td>\n",
       "      <td>1</td>\n",
       "      <td>2</td>\n",
       "      <td>4</td>\n",
       "      <td>19</td>\n",
       "      <td>1</td>\n",
       "      <td>1986</td>\n",
       "      <td>...</td>\n",
       "      <td>3</td>\n",
       "      <td>500</td>\n",
       "      <td>3</td>\n",
       "      <td>4</td>\n",
       "      <td>2</td>\n",
       "      <td>NaN</td>\n",
       "      <td>2</td>\n",
       "      <td>1</td>\n",
       "      <td>500</td>\n",
       "      <td>20160623</td>\n",
       "    </tr>\n",
       "    <tr>\n",
       "      <th>2</th>\n",
       "      <td>2</td>\n",
       "      <td>2014</td>\n",
       "      <td>11</td>\n",
       "      <td>15</td>\n",
       "      <td>1</td>\n",
       "      <td>3</td>\n",
       "      <td>2</td>\n",
       "      <td>14</td>\n",
       "      <td>5</td>\n",
       "      <td>2013</td>\n",
       "      <td>...</td>\n",
       "      <td>3</td>\n",
       "      <td>500</td>\n",
       "      <td>3</td>\n",
       "      <td>1</td>\n",
       "      <td>NaN</td>\n",
       "      <td>NaN</td>\n",
       "      <td>NaN</td>\n",
       "      <td>NaN</td>\n",
       "      <td>500</td>\n",
       "      <td>20160623</td>\n",
       "    </tr>\n",
       "    <tr>\n",
       "      <th>3</th>\n",
       "      <td>3</td>\n",
       "      <td>2014</td>\n",
       "      <td>11</td>\n",
       "      <td>15</td>\n",
       "      <td>2</td>\n",
       "      <td>1</td>\n",
       "      <td>2</td>\n",
       "      <td>8</td>\n",
       "      <td>4</td>\n",
       "      <td>1963</td>\n",
       "      <td>...</td>\n",
       "      <td>2</td>\n",
       "      <td>1150</td>\n",
       "      <td>4</td>\n",
       "      <td>2</td>\n",
       "      <td>1</td>\n",
       "      <td>2</td>\n",
       "      <td>2</td>\n",
       "      <td>1</td>\n",
       "      <td>1150</td>\n",
       "      <td>20160623</td>\n",
       "    </tr>\n",
       "    <tr>\n",
       "      <th>4</th>\n",
       "      <td>4</td>\n",
       "      <td>2014</td>\n",
       "      <td>11</td>\n",
       "      <td>15</td>\n",
       "      <td>2</td>\n",
       "      <td>2</td>\n",
       "      <td>4</td>\n",
       "      <td>6</td>\n",
       "      <td>11</td>\n",
       "      <td>1970</td>\n",
       "      <td>...</td>\n",
       "      <td>2</td>\n",
       "      <td>1150</td>\n",
       "      <td>4</td>\n",
       "      <td>3</td>\n",
       "      <td>1</td>\n",
       "      <td>2</td>\n",
       "      <td>2</td>\n",
       "      <td>1</td>\n",
       "      <td>1150</td>\n",
       "      <td>20160623</td>\n",
       "    </tr>\n",
       "  </tbody>\n",
       "</table>\n",
       "<p>5 rows × 342 columns</p>\n",
       "</div>"
      ],
      "text/plain": [
       "   Unnamed: 0  V0101  UF  V0102  V0103  V0301  V0302  V3031  V3032  V3033  \\\n",
       "0           0   2014  11     15      1      1      2     19      8   1987   \n",
       "1           1   2014  11     15      1      2      4     19      1   1986   \n",
       "2           2   2014  11     15      1      3      2     14      5   2013   \n",
       "3           3   2014  11     15      2      1      2      8      4   1963   \n",
       "4           4   2014  11     15      2      2      4      6     11   1970   \n",
       "\n",
       "     ...     V4741  V4742  V4743  V4745  V4746  V4747  V4748  V4749  V4750  \\\n",
       "0    ...         3    500      3      3      1      2      2      1    500   \n",
       "1    ...         3    500      3      4      2    NaN      2      1    500   \n",
       "2    ...         3    500      3      1    NaN    NaN    NaN    NaN    500   \n",
       "3    ...         2   1150      4      2      1      2      2      1   1150   \n",
       "4    ...         2   1150      4      3      1      2      2      1   1150   \n",
       "\n",
       "      V9993  \n",
       "0  20160623  \n",
       "1  20160623  \n",
       "2  20160623  \n",
       "3  20160623  \n",
       "4  20160623  \n",
       "\n",
       "[5 rows x 342 columns]"
      ]
     },
     "execution_count": 10,
     "metadata": {},
     "output_type": "execute_result"
    }
   ],
   "source": [
    "dados14 = pd.read_csv('PES2014.csv')\n",
    "dados14.head()"
   ]
  },
  {
   "cell_type": "code",
   "execution_count": 11,
   "metadata": {
    "collapsed": false
   },
   "outputs": [
    {
     "data": {
      "text/html": [
       "<div>\n",
       "<table border=\"1\" class=\"dataframe\">\n",
       "  <thead>\n",
       "    <tr style=\"text-align: right;\">\n",
       "      <th></th>\n",
       "      <th>Unnamed: 0</th>\n",
       "      <th>V0101</th>\n",
       "      <th>UF</th>\n",
       "      <th>V0102</th>\n",
       "      <th>V0103</th>\n",
       "      <th>V0301</th>\n",
       "      <th>V0302</th>\n",
       "      <th>V3031</th>\n",
       "      <th>V3032</th>\n",
       "      <th>V3033</th>\n",
       "      <th>...</th>\n",
       "      <th>V4741</th>\n",
       "      <th>V4742</th>\n",
       "      <th>V4743</th>\n",
       "      <th>V4745</th>\n",
       "      <th>V4746</th>\n",
       "      <th>V4747</th>\n",
       "      <th>V4748</th>\n",
       "      <th>V4749</th>\n",
       "      <th>V4750</th>\n",
       "      <th>V9993</th>\n",
       "    </tr>\n",
       "  </thead>\n",
       "  <tbody>\n",
       "    <tr>\n",
       "      <th>0</th>\n",
       "      <td>1</td>\n",
       "      <td>2013</td>\n",
       "      <td>11</td>\n",
       "      <td>15</td>\n",
       "      <td>3</td>\n",
       "      <td>1</td>\n",
       "      <td>4</td>\n",
       "      <td>25</td>\n",
       "      <td>8</td>\n",
       "      <td>1971</td>\n",
       "      <td>...</td>\n",
       "      <td>1</td>\n",
       "      <td>350</td>\n",
       "      <td>3</td>\n",
       "      <td>2</td>\n",
       "      <td>2</td>\n",
       "      <td>NaN</td>\n",
       "      <td>NaN</td>\n",
       "      <td>2</td>\n",
       "      <td>350</td>\n",
       "      <td>20150428</td>\n",
       "    </tr>\n",
       "    <tr>\n",
       "      <th>1</th>\n",
       "      <td>2</td>\n",
       "      <td>2013</td>\n",
       "      <td>11</td>\n",
       "      <td>15</td>\n",
       "      <td>4</td>\n",
       "      <td>1</td>\n",
       "      <td>4</td>\n",
       "      <td>20</td>\n",
       "      <td>1</td>\n",
       "      <td>1949</td>\n",
       "      <td>...</td>\n",
       "      <td>2</td>\n",
       "      <td>339</td>\n",
       "      <td>2</td>\n",
       "      <td>1</td>\n",
       "      <td>2</td>\n",
       "      <td>NaN</td>\n",
       "      <td>NaN</td>\n",
       "      <td>2</td>\n",
       "      <td>339</td>\n",
       "      <td>20150428</td>\n",
       "    </tr>\n",
       "    <tr>\n",
       "      <th>2</th>\n",
       "      <td>3</td>\n",
       "      <td>2013</td>\n",
       "      <td>11</td>\n",
       "      <td>15</td>\n",
       "      <td>4</td>\n",
       "      <td>2</td>\n",
       "      <td>4</td>\n",
       "      <td>24</td>\n",
       "      <td>6</td>\n",
       "      <td>2000</td>\n",
       "      <td>...</td>\n",
       "      <td>2</td>\n",
       "      <td>339</td>\n",
       "      <td>2</td>\n",
       "      <td>2</td>\n",
       "      <td>2</td>\n",
       "      <td>NaN</td>\n",
       "      <td>NaN</td>\n",
       "      <td>2</td>\n",
       "      <td>339</td>\n",
       "      <td>20150428</td>\n",
       "    </tr>\n",
       "    <tr>\n",
       "      <th>3</th>\n",
       "      <td>4</td>\n",
       "      <td>2013</td>\n",
       "      <td>11</td>\n",
       "      <td>15</td>\n",
       "      <td>5</td>\n",
       "      <td>1</td>\n",
       "      <td>2</td>\n",
       "      <td>16</td>\n",
       "      <td>5</td>\n",
       "      <td>1990</td>\n",
       "      <td>...</td>\n",
       "      <td>3</td>\n",
       "      <td>266</td>\n",
       "      <td>2</td>\n",
       "      <td>1</td>\n",
       "      <td>1</td>\n",
       "      <td>2</td>\n",
       "      <td>2</td>\n",
       "      <td>1</td>\n",
       "      <td>266</td>\n",
       "      <td>20150428</td>\n",
       "    </tr>\n",
       "    <tr>\n",
       "      <th>4</th>\n",
       "      <td>5</td>\n",
       "      <td>2013</td>\n",
       "      <td>11</td>\n",
       "      <td>15</td>\n",
       "      <td>5</td>\n",
       "      <td>2</td>\n",
       "      <td>4</td>\n",
       "      <td>18</td>\n",
       "      <td>7</td>\n",
       "      <td>1994</td>\n",
       "      <td>...</td>\n",
       "      <td>3</td>\n",
       "      <td>266</td>\n",
       "      <td>2</td>\n",
       "      <td>5</td>\n",
       "      <td>2</td>\n",
       "      <td>NaN</td>\n",
       "      <td>NaN</td>\n",
       "      <td>2</td>\n",
       "      <td>266</td>\n",
       "      <td>20150428</td>\n",
       "    </tr>\n",
       "  </tbody>\n",
       "</table>\n",
       "<p>5 rows × 331 columns</p>\n",
       "</div>"
      ],
      "text/plain": [
       "   Unnamed: 0  V0101  UF  V0102  V0103  V0301  V0302  V3031  V3032  V3033  \\\n",
       "0           1   2013  11     15      3      1      4     25      8   1971   \n",
       "1           2   2013  11     15      4      1      4     20      1   1949   \n",
       "2           3   2013  11     15      4      2      4     24      6   2000   \n",
       "3           4   2013  11     15      5      1      2     16      5   1990   \n",
       "4           5   2013  11     15      5      2      4     18      7   1994   \n",
       "\n",
       "     ...     V4741  V4742  V4743  V4745  V4746  V4747  V4748  V4749  V4750  \\\n",
       "0    ...         1    350      3      2      2    NaN    NaN      2    350   \n",
       "1    ...         2    339      2      1      2    NaN    NaN      2    339   \n",
       "2    ...         2    339      2      2      2    NaN    NaN      2    339   \n",
       "3    ...         3    266      2      1      1      2      2      1    266   \n",
       "4    ...         3    266      2      5      2    NaN    NaN      2    266   \n",
       "\n",
       "      V9993  \n",
       "0  20150428  \n",
       "1  20150428  \n",
       "2  20150428  \n",
       "3  20150428  \n",
       "4  20150428  \n",
       "\n",
       "[5 rows x 331 columns]"
      ]
     },
     "execution_count": 11,
     "metadata": {},
     "output_type": "execute_result"
    }
   ],
   "source": [
    "dados13 = pd.read_csv('pes2013R.csv')\n",
    "dados13.head()"
   ]
  },
  {
   "cell_type": "code",
   "execution_count": 12,
   "metadata": {
    "collapsed": false
   },
   "outputs": [
    {
     "data": {
      "text/html": [
       "<div>\n",
       "<table border=\"1\" class=\"dataframe\">\n",
       "  <thead>\n",
       "    <tr style=\"text-align: right;\">\n",
       "      <th></th>\n",
       "      <th>V0101</th>\n",
       "      <th>UF</th>\n",
       "      <th>V0102</th>\n",
       "      <th>V0103</th>\n",
       "      <th>V0301</th>\n",
       "      <th>V0302</th>\n",
       "      <th>V3031</th>\n",
       "      <th>V3032</th>\n",
       "      <th>V3033</th>\n",
       "      <th>V8005</th>\n",
       "      <th>...</th>\n",
       "      <th>V4741</th>\n",
       "      <th>V4742</th>\n",
       "      <th>V4743</th>\n",
       "      <th>V4745</th>\n",
       "      <th>V4746</th>\n",
       "      <th>V4747</th>\n",
       "      <th>V4748</th>\n",
       "      <th>V4749</th>\n",
       "      <th>V4750</th>\n",
       "      <th>V9993</th>\n",
       "    </tr>\n",
       "  </thead>\n",
       "  <tbody>\n",
       "    <tr>\n",
       "      <th>0</th>\n",
       "      <td>2011</td>\n",
       "      <td>11</td>\n",
       "      <td>11000000</td>\n",
       "      <td>1</td>\n",
       "      <td>1</td>\n",
       "      <td>2</td>\n",
       "      <td>25</td>\n",
       "      <td>12</td>\n",
       "      <td>1961</td>\n",
       "      <td>49</td>\n",
       "      <td>...</td>\n",
       "      <td>4</td>\n",
       "      <td>1.000000e+12</td>\n",
       "      <td>99</td>\n",
       "      <td>2</td>\n",
       "      <td>1</td>\n",
       "      <td>2</td>\n",
       "      <td>2</td>\n",
       "      <td>1</td>\n",
       "      <td>1.000000e+12</td>\n",
       "      <td>20100000</td>\n",
       "    </tr>\n",
       "    <tr>\n",
       "      <th>1</th>\n",
       "      <td>2011</td>\n",
       "      <td>11</td>\n",
       "      <td>11000000</td>\n",
       "      <td>1</td>\n",
       "      <td>2</td>\n",
       "      <td>4</td>\n",
       "      <td>1</td>\n",
       "      <td>4</td>\n",
       "      <td>1978</td>\n",
       "      <td>33</td>\n",
       "      <td>...</td>\n",
       "      <td>4</td>\n",
       "      <td>1.000000e+12</td>\n",
       "      <td>99</td>\n",
       "      <td>6</td>\n",
       "      <td>2</td>\n",
       "      <td>NaN</td>\n",
       "      <td>NaN</td>\n",
       "      <td>2</td>\n",
       "      <td>1.000000e+12</td>\n",
       "      <td>20100000</td>\n",
       "    </tr>\n",
       "    <tr>\n",
       "      <th>2</th>\n",
       "      <td>2011</td>\n",
       "      <td>11</td>\n",
       "      <td>11000000</td>\n",
       "      <td>1</td>\n",
       "      <td>3</td>\n",
       "      <td>4</td>\n",
       "      <td>15</td>\n",
       "      <td>6</td>\n",
       "      <td>1996</td>\n",
       "      <td>15</td>\n",
       "      <td>...</td>\n",
       "      <td>4</td>\n",
       "      <td>1.000000e+12</td>\n",
       "      <td>99</td>\n",
       "      <td>3</td>\n",
       "      <td>2</td>\n",
       "      <td>NaN</td>\n",
       "      <td>NaN</td>\n",
       "      <td>2</td>\n",
       "      <td>1.000000e+12</td>\n",
       "      <td>20100000</td>\n",
       "    </tr>\n",
       "    <tr>\n",
       "      <th>3</th>\n",
       "      <td>2011</td>\n",
       "      <td>11</td>\n",
       "      <td>11000000</td>\n",
       "      <td>1</td>\n",
       "      <td>4</td>\n",
       "      <td>2</td>\n",
       "      <td>3</td>\n",
       "      <td>12</td>\n",
       "      <td>2001</td>\n",
       "      <td>9</td>\n",
       "      <td>...</td>\n",
       "      <td>4</td>\n",
       "      <td>1.000000e+12</td>\n",
       "      <td>99</td>\n",
       "      <td>2</td>\n",
       "      <td>2</td>\n",
       "      <td>NaN</td>\n",
       "      <td>NaN</td>\n",
       "      <td>2</td>\n",
       "      <td>1.000000e+12</td>\n",
       "      <td>20100000</td>\n",
       "    </tr>\n",
       "    <tr>\n",
       "      <th>4</th>\n",
       "      <td>2011</td>\n",
       "      <td>11</td>\n",
       "      <td>11000000</td>\n",
       "      <td>2</td>\n",
       "      <td>1</td>\n",
       "      <td>4</td>\n",
       "      <td>16</td>\n",
       "      <td>10</td>\n",
       "      <td>1959</td>\n",
       "      <td>51</td>\n",
       "      <td>...</td>\n",
       "      <td>4</td>\n",
       "      <td>1.461000e+03</td>\n",
       "      <td>5</td>\n",
       "      <td>4</td>\n",
       "      <td>1</td>\n",
       "      <td>2</td>\n",
       "      <td>2</td>\n",
       "      <td>1</td>\n",
       "      <td>1.461000e+03</td>\n",
       "      <td>20100000</td>\n",
       "    </tr>\n",
       "  </tbody>\n",
       "</table>\n",
       "<p>5 rows × 324 columns</p>\n",
       "</div>"
      ],
      "text/plain": [
       "   V0101  UF     V0102  V0103  V0301  V0302  V3031  V3032  V3033  V8005  \\\n",
       "0   2011  11  11000000      1      1      2     25     12   1961     49   \n",
       "1   2011  11  11000000      1      2      4      1      4   1978     33   \n",
       "2   2011  11  11000000      1      3      4     15      6   1996     15   \n",
       "3   2011  11  11000000      1      4      2      3     12   2001      9   \n",
       "4   2011  11  11000000      2      1      4     16     10   1959     51   \n",
       "\n",
       "     ...     V4741         V4742  V4743  V4745  V4746  V4747  V4748  V4749  \\\n",
       "0    ...         4  1.000000e+12     99      2      1      2      2      1   \n",
       "1    ...         4  1.000000e+12     99      6      2    NaN    NaN      2   \n",
       "2    ...         4  1.000000e+12     99      3      2    NaN    NaN      2   \n",
       "3    ...         4  1.000000e+12     99      2      2    NaN    NaN      2   \n",
       "4    ...         4  1.461000e+03      5      4      1      2      2      1   \n",
       "\n",
       "          V4750     V9993  \n",
       "0  1.000000e+12  20100000  \n",
       "1  1.000000e+12  20100000  \n",
       "2  1.000000e+12  20100000  \n",
       "3  1.000000e+12  20100000  \n",
       "4  1.461000e+03  20100000  \n",
       "\n",
       "[5 rows x 324 columns]"
      ]
     },
     "execution_count": 12,
     "metadata": {},
     "output_type": "execute_result"
    }
   ],
   "source": [
    "dados11 = pd.read_csv('PES2011.csv')\n",
    "dados11.head()"
   ]
  },
  {
   "cell_type": "markdown",
   "metadata": {
    "collapsed": true
   },
   "source": [
    "### Após isso, as PNADs são separadas em DataFrames mais organizados, nomeados e com somente as variaveis que vao ser usadas. Elas são: Aposentado, Sexo, Região, Anos de Trabalho, Renda Mensal per capita, Faixas de Renda (renda transformada em qualitativa), e RendaSM (renda/salario minimo)"
   ]
  },
  {
   "cell_type": "code",
   "execution_count": 13,
   "metadata": {
    "collapsed": false
   },
   "outputs": [
    {
     "name": "stdout",
     "output_type": "stream",
     "text": [
      ">>>>2014<<<<<\n"
     ]
    },
    {
     "data": {
      "text/html": [
       "<div>\n",
       "<table border=\"1\" class=\"dataframe\">\n",
       "  <thead>\n",
       "    <tr style=\"text-align: right;\">\n",
       "      <th></th>\n",
       "      <th>sexo</th>\n",
       "      <th>aposentado</th>\n",
       "      <th>renda</th>\n",
       "      <th>faixarenda</th>\n",
       "      <th>rendaSM</th>\n",
       "      <th>regiao</th>\n",
       "      <th>anostrabalho</th>\n",
       "    </tr>\n",
       "  </thead>\n",
       "  <tbody>\n",
       "    <tr>\n",
       "      <th>269307</th>\n",
       "      <td>Masculino</td>\n",
       "      <td>Sim</td>\n",
       "      <td>750</td>\n",
       "      <td>Mais de 3 até 5 salários mínimos</td>\n",
       "      <td>1.035912</td>\n",
       "      <td>Sul</td>\n",
       "      <td>1</td>\n",
       "    </tr>\n",
       "    <tr>\n",
       "      <th>269381</th>\n",
       "      <td>Feminino</td>\n",
       "      <td>Sim</td>\n",
       "      <td>1562</td>\n",
       "      <td>Mais de 1 até 2 salários mínimos</td>\n",
       "      <td>2.157459</td>\n",
       "      <td>Sul</td>\n",
       "      <td>2</td>\n",
       "    </tr>\n",
       "    <tr>\n",
       "      <th>269398</th>\n",
       "      <td>Masculino</td>\n",
       "      <td>Sim</td>\n",
       "      <td>759</td>\n",
       "      <td>Mais de ½ até 1 salário mínimo</td>\n",
       "      <td>1.048343</td>\n",
       "      <td>Sul</td>\n",
       "      <td>2</td>\n",
       "    </tr>\n",
       "    <tr>\n",
       "      <th>269399</th>\n",
       "      <td>Feminino</td>\n",
       "      <td>Sim</td>\n",
       "      <td>759</td>\n",
       "      <td>Mais de 1 até 2 salários mínimos</td>\n",
       "      <td>1.048343</td>\n",
       "      <td>Sul</td>\n",
       "      <td>1</td>\n",
       "    </tr>\n",
       "    <tr>\n",
       "      <th>269424</th>\n",
       "      <td>Masculino</td>\n",
       "      <td>Sim</td>\n",
       "      <td>4262</td>\n",
       "      <td>Mais de 5 salários mínimos</td>\n",
       "      <td>5.886740</td>\n",
       "      <td>Sul</td>\n",
       "      <td>16</td>\n",
       "    </tr>\n",
       "  </tbody>\n",
       "</table>\n",
       "</div>"
      ],
      "text/plain": [
       "             sexo aposentado  renda                        faixarenda  \\\n",
       "269307  Masculino        Sim    750  Mais de 3 até 5 salários mínimos   \n",
       "269381   Feminino        Sim   1562  Mais de 1 até 2 salários mínimos   \n",
       "269398  Masculino        Sim    759    Mais de ½ até 1 salário mínimo   \n",
       "269399   Feminino        Sim    759  Mais de 1 até 2 salários mínimos   \n",
       "269424  Masculino        Sim   4262        Mais de 5 salários mínimos   \n",
       "\n",
       "         rendaSM regiao  anostrabalho  \n",
       "269307  1.035912    Sul             1  \n",
       "269381  2.157459    Sul             2  \n",
       "269398  1.048343    Sul             2  \n",
       "269399  1.048343    Sul             1  \n",
       "269424  5.886740    Sul            16  "
      ]
     },
     "execution_count": 13,
     "metadata": {},
     "output_type": "execute_result"
    }
   ],
   "source": [
    "d14 = pd.DataFrame()\n",
    "\n",
    "d14[\"sexo\"] = dados14.V0302\n",
    "d14 = d14[~dados14.V0302.isnull()]\n",
    "d14[\"aposentado\"] = dados14.V9122\n",
    "d14 = d14[~dados14.V9122.isnull()]\n",
    "d14[\"renda\"] = dados14.V4750 #renda per capita\n",
    "d14 = d14[~dados14.V4750.isnull()]\n",
    "d14[\"faixarenda\"] = dados14.V4750\n",
    "d14[\"rendaSM\"] = dados14.V4750 #renda em salarios minimos (renda/salriominimo)\n",
    "d14[\"regiao\"] = dados14.UF\n",
    "d14 = d14[~dados14.UF.isnull()]\n",
    "d14[\"anostrabalho\"] = dados14.V9611\n",
    "d14 = d14[~dados14.V9611.isnull()]\n",
    "\n",
    "d14.sexo = d14.sexo.astype('category')\n",
    "d14.sexo.cat.categories = ('Masculino', 'Feminino')\n",
    "d14.aposentado = d14.aposentado.astype('category')\n",
    "d14.aposentado.cat.categories = ('Sim', 'Não')\n",
    "d14 = d14[dados14.V9122 == 2] #pegar só aposentaods\n",
    "d14 = d14[d14.renda != 999999999999] #tira os nao declarados\n",
    "#d14 = d14[d14.renda < 250000]\n",
    "d14 = d14[d14.renda < 10000]\n",
    "\n",
    "\n",
    "salminimo14 = 724\n",
    "\n",
    "d14.faixarenda[(dados14.V4720 == 0)] = 0\n",
    "d14.faixarenda[(dados14.V4720 > 0) & (dados14.V4720 <= (salminimo14/4))] = 1\n",
    "d14.faixarenda[(dados14.V4720 > (salminimo14/4)) & (dados14.V4720 <= (salminimo14/2))] = 2\n",
    "d14.faixarenda[(dados14.V4720 > (salminimo14/2)) & (dados14.V4720 <= salminimo14)] = 3\n",
    "d14.faixarenda[(dados14.V4720 > salminimo14) & (dados14.V4720 <= (salminimo14*2))] = 4\n",
    "d14.faixarenda[(dados14.V4720 > (salminimo14*2)) & (dados14.V4720 <= (salminimo14*3))] = 5\n",
    "d14.faixarenda[(dados14.V4720 > (salminimo14*3)) & (dados14.V4720 <= (salminimo14*5))] = 6\n",
    "d14.faixarenda[(dados14.V4720 > (salminimo14*5))] = 7\n",
    "\n",
    "d14.faixarenda = d14.faixarenda.astype('category')\n",
    "#d14.faixarenda.cat.categories = ('Sem renda' ,'Até ¼ do salario minimo', 'Mais de ¼ até ½ salário mínimo', 'Mais de ½ até 1 salário mínimo', 'Mais de 1 até 2 salários mínimos', 'Mais de 2 até 3 salários mínimos', 'Mais de 3 até 5 salários mínimos', 'Mais de 5 salários mínimos')\n",
    "d14.faixarenda.cat.categories = ('Mais de ½ até 1 salário mínimo', 'Mais de 1 até 2 salários mínimos', 'Mais de 2 até 3 salários mínimos', 'Mais de 3 até 5 salários mínimos', 'Mais de 5 salários mínimos')\n",
    "\n",
    "d14.rendaSM= d14.rendaSM/salminimo14\n",
    "\n",
    "\n",
    "d14.regiao[(dados14.UF >= 10) & (dados14.UF < 20)] = 0\n",
    "d14.regiao[(dados14.UF >= 20) & (dados14.UF < 30)] = 1\n",
    "d14.regiao[(dados14.UF >= 30) & (dados14.UF < 40)] = 2\n",
    "d14.regiao[(dados14.UF >= 40) & (dados14.UF < 50)] = 3\n",
    "d14.regiao[(dados14.UF >= 50) & (dados14.UF < 60)] = 4\n",
    "\n",
    "d14.regiao = d14.regiao.astype('category')\n",
    "d14.regiao.cat.categories = ('Norte', 'Nordeste', 'Sudeste', 'Sul', 'Centro-Oeste')\n",
    "\n",
    "d14 = d14[d14.regiao == 'Sul'] #Só o sul\n",
    "\n",
    "print(\">>>>2014<<<<<\")\n",
    "d14.head()"
   ]
  },
  {
   "cell_type": "code",
   "execution_count": 15,
   "metadata": {
    "collapsed": false
   },
   "outputs": [
    {
     "name": "stdout",
     "output_type": "stream",
     "text": [
      ">>>>2013<<<<<\n"
     ]
    },
    {
     "data": {
      "text/html": [
       "<div>\n",
       "<table border=\"1\" class=\"dataframe\">\n",
       "  <thead>\n",
       "    <tr style=\"text-align: right;\">\n",
       "      <th></th>\n",
       "      <th>sexo</th>\n",
       "      <th>aposentado</th>\n",
       "      <th>renda</th>\n",
       "      <th>faixarenda</th>\n",
       "      <th>rendaSM</th>\n",
       "      <th>regiao</th>\n",
       "      <th>anostrabalho</th>\n",
       "    </tr>\n",
       "  </thead>\n",
       "  <tbody>\n",
       "    <tr>\n",
       "      <th>268942</th>\n",
       "      <td>Feminino</td>\n",
       "      <td>Sim</td>\n",
       "      <td>1950</td>\n",
       "      <td>Mais de 3 até 5 salários mínimos</td>\n",
       "      <td>2.876106</td>\n",
       "      <td>Sul</td>\n",
       "      <td>8</td>\n",
       "    </tr>\n",
       "    <tr>\n",
       "      <th>269162</th>\n",
       "      <td>Feminino</td>\n",
       "      <td>Sim</td>\n",
       "      <td>1328</td>\n",
       "      <td>Mais de 2 até 3 salários mínimos</td>\n",
       "      <td>1.958702</td>\n",
       "      <td>Sul</td>\n",
       "      <td>40</td>\n",
       "    </tr>\n",
       "    <tr>\n",
       "      <th>269164</th>\n",
       "      <td>Masculino</td>\n",
       "      <td>Sim</td>\n",
       "      <td>678</td>\n",
       "      <td>Mais de ½ até 1 salário mínimo</td>\n",
       "      <td>1.000000</td>\n",
       "      <td>Sul</td>\n",
       "      <td>10</td>\n",
       "    </tr>\n",
       "    <tr>\n",
       "      <th>269193</th>\n",
       "      <td>Masculino</td>\n",
       "      <td>Sim</td>\n",
       "      <td>2100</td>\n",
       "      <td>Mais de 5 salários mínimos</td>\n",
       "      <td>3.097345</td>\n",
       "      <td>Sul</td>\n",
       "      <td>4</td>\n",
       "    </tr>\n",
       "    <tr>\n",
       "      <th>269196</th>\n",
       "      <td>Masculino</td>\n",
       "      <td>Sim</td>\n",
       "      <td>3271</td>\n",
       "      <td>Mais de 5 salários mínimos</td>\n",
       "      <td>4.824484</td>\n",
       "      <td>Sul</td>\n",
       "      <td>40</td>\n",
       "    </tr>\n",
       "  </tbody>\n",
       "</table>\n",
       "</div>"
      ],
      "text/plain": [
       "             sexo aposentado  renda                        faixarenda  \\\n",
       "268942   Feminino        Sim   1950  Mais de 3 até 5 salários mínimos   \n",
       "269162   Feminino        Sim   1328  Mais de 2 até 3 salários mínimos   \n",
       "269164  Masculino        Sim    678    Mais de ½ até 1 salário mínimo   \n",
       "269193  Masculino        Sim   2100        Mais de 5 salários mínimos   \n",
       "269196  Masculino        Sim   3271        Mais de 5 salários mínimos   \n",
       "\n",
       "         rendaSM regiao  anostrabalho  \n",
       "268942  2.876106    Sul             8  \n",
       "269162  1.958702    Sul            40  \n",
       "269164  1.000000    Sul            10  \n",
       "269193  3.097345    Sul             4  \n",
       "269196  4.824484    Sul            40  "
      ]
     },
     "execution_count": 15,
     "metadata": {},
     "output_type": "execute_result"
    }
   ],
   "source": [
    "d13 = pd.DataFrame()\n",
    "\n",
    "d13[\"sexo\"] = dados13.V0302\n",
    "d13 = d13[~dados13.V0302.isnull()]\n",
    "d13[\"aposentado\"] = dados13.V9122\n",
    "d13 = d13[~dados13.V9122.isnull()]\n",
    "d13[\"renda\"] = dados13.V4750 #renda per capita\n",
    "d13 = d13[~dados13.V4750.isnull()]\n",
    "d13[\"faixarenda\"] = dados13.V4750\n",
    "d13[\"rendaSM\"] = dados13.V4750 #renda em salarios minimos (renda/salriominimo)\n",
    "d13[\"regiao\"] = dados13.UF\n",
    "d13 = d13[~dados13.UF.isnull()]\n",
    "d13[\"anostrabalho\"] = dados13.V9611\n",
    "d13 = d13[~dados13.V9611.isnull()]\n",
    "\n",
    "d13.sexo = d13.sexo.astype('category')\n",
    "d13.sexo.cat.categories = ('Masculino', 'Feminino')\n",
    "d13.aposentado = d13.aposentado.astype('category')\n",
    "d13.aposentado.cat.categories = ('Sim', 'Não')\n",
    "d13 = d13[dados13.V9122 == 2] #pegar só aposentaods\n",
    "d13 = d13[d13.renda != 999999999999] #tira os nao declarados\n",
    "#d13 = d13[d13.renda < 250000]\n",
    "d13 = d13[d13.renda < 10000]\n",
    "\n",
    "\n",
    "salminimo13 = 678 \n",
    "\n",
    "\n",
    "d13.faixarenda[(dados13.V4720 == 0)] = 0\n",
    "d13.faixarenda[(dados13.V4720 > 0) & (dados13.V4720 <= (salminimo13/4))] = 1\n",
    "d13.faixarenda[(dados13.V4720 > (salminimo13/4)) & (dados13.V4720 <= (salminimo13/2))] = 2\n",
    "d13.faixarenda[(dados13.V4720 > (salminimo13/2)) & (dados13.V4720 <= salminimo13)] = 3\n",
    "d13.faixarenda[(dados13.V4720 > salminimo13) & (dados13.V4720 <= (salminimo13*2))] = 4\n",
    "d13.faixarenda[(dados13.V4720 > (salminimo13*2)) & (dados13.V4720 <= (salminimo13*3))] = 5\n",
    "d13.faixarenda[(dados13.V4720 > (salminimo13*3)) & (dados13.V4720 <= (salminimo13*5))] = 6\n",
    "d13.faixarenda[(dados13.V4720 > (salminimo13*5))] = 7\n",
    "\n",
    "#print(d11.faixarenda.describe())\n",
    "d13.faixarenda = d13.faixarenda.astype('category')\n",
    "#d11.faixarenda.cat.categories = ('Sem renda' ,'Até ¼ do salario minimo', 'Mais de ¼ até ½ salário mínimo', 'Mais de ½ até 1 salário mínimo', 'Mais de 1 até 2 salários mínimos', 'Mais de 2 até 3 salários mínimos', 'Mais de 3 até 5 salários mínimos', 'Mais de 5 salários mínimos')\n",
    "d13.faixarenda.cat.categories = ('Mais de ½ até 1 salário mínimo', 'Mais de 1 até 2 salários mínimos', 'Mais de 2 até 3 salários mínimos', 'Mais de 3 até 5 salários mínimos', 'Mais de 5 salários mínimos')\n",
    "\n",
    "d13.rendaSM= d13.rendaSM/salminimo13\n",
    "\n",
    "\n",
    "d13.regiao[(dados13.UF >= 10) & (dados13.UF < 20)] = 0\n",
    "d13.regiao[(dados13.UF >= 20) & (dados13.UF < 30)] = 1\n",
    "d13.regiao[(dados13.UF >= 30) & (dados13.UF < 40)] = 2\n",
    "d13.regiao[(dados13.UF >= 40) & (dados13.UF < 50)] = 3\n",
    "d13.regiao[(dados13.UF >= 50) & (dados13.UF < 60)] = 4\n",
    "\n",
    "d13.regiao = d13.regiao.astype('category')\n",
    "d13.regiao.cat.categories = ('Norte', 'Nordeste', 'Sudeste', 'Sul', 'Centro-Oeste')\n",
    "\n",
    "d13 = d13[d13.regiao == 'Sul'] #Só o sul\n",
    "\n",
    "print(\">>>>2013<<<<<\")\n",
    "d13.head()"
   ]
  },
  {
   "cell_type": "code",
   "execution_count": 16,
   "metadata": {
    "collapsed": false
   },
   "outputs": [
    {
     "name": "stdout",
     "output_type": "stream",
     "text": [
      ">>>>2011<<<<<\n"
     ]
    },
    {
     "data": {
      "text/html": [
       "<div>\n",
       "<table border=\"1\" class=\"dataframe\">\n",
       "  <thead>\n",
       "    <tr style=\"text-align: right;\">\n",
       "      <th></th>\n",
       "      <th>sexo</th>\n",
       "      <th>aposentado</th>\n",
       "      <th>renda</th>\n",
       "      <th>faixarenda</th>\n",
       "      <th>rendaSM</th>\n",
       "      <th>regiao</th>\n",
       "      <th>anostrabalho</th>\n",
       "    </tr>\n",
       "  </thead>\n",
       "  <tbody>\n",
       "    <tr>\n",
       "      <th>265564</th>\n",
       "      <td>Masculino</td>\n",
       "      <td>Sim</td>\n",
       "      <td>1000</td>\n",
       "      <td>Mais de 5 salários mínimos</td>\n",
       "      <td>1.834862</td>\n",
       "      <td>Sul</td>\n",
       "      <td>20</td>\n",
       "    </tr>\n",
       "    <tr>\n",
       "      <th>265607</th>\n",
       "      <td>Masculino</td>\n",
       "      <td>Sim</td>\n",
       "      <td>1615</td>\n",
       "      <td>Mais de 3 até 5 salários mínimos</td>\n",
       "      <td>2.963303</td>\n",
       "      <td>Sul</td>\n",
       "      <td>0</td>\n",
       "    </tr>\n",
       "    <tr>\n",
       "      <th>265633</th>\n",
       "      <td>Feminino</td>\n",
       "      <td>Sim</td>\n",
       "      <td>1245</td>\n",
       "      <td>Mais de 2 até 3 salários mínimos</td>\n",
       "      <td>2.284404</td>\n",
       "      <td>Sul</td>\n",
       "      <td>10</td>\n",
       "    </tr>\n",
       "    <tr>\n",
       "      <th>265745</th>\n",
       "      <td>Masculino</td>\n",
       "      <td>Sim</td>\n",
       "      <td>731</td>\n",
       "      <td>Mais de 2 até 3 salários mínimos</td>\n",
       "      <td>1.341284</td>\n",
       "      <td>Sul</td>\n",
       "      <td>5</td>\n",
       "    </tr>\n",
       "    <tr>\n",
       "      <th>265863</th>\n",
       "      <td>Masculino</td>\n",
       "      <td>Sim</td>\n",
       "      <td>2545</td>\n",
       "      <td>Mais de 3 até 5 salários mínimos</td>\n",
       "      <td>4.669725</td>\n",
       "      <td>Sul</td>\n",
       "      <td>10</td>\n",
       "    </tr>\n",
       "  </tbody>\n",
       "</table>\n",
       "</div>"
      ],
      "text/plain": [
       "             sexo aposentado  renda                        faixarenda  \\\n",
       "265564  Masculino        Sim   1000        Mais de 5 salários mínimos   \n",
       "265607  Masculino        Sim   1615  Mais de 3 até 5 salários mínimos   \n",
       "265633   Feminino        Sim   1245  Mais de 2 até 3 salários mínimos   \n",
       "265745  Masculino        Sim    731  Mais de 2 até 3 salários mínimos   \n",
       "265863  Masculino        Sim   2545  Mais de 3 até 5 salários mínimos   \n",
       "\n",
       "         rendaSM regiao  anostrabalho  \n",
       "265564  1.834862    Sul            20  \n",
       "265607  2.963303    Sul             0  \n",
       "265633  2.284404    Sul            10  \n",
       "265745  1.341284    Sul             5  \n",
       "265863  4.669725    Sul            10  "
      ]
     },
     "execution_count": 16,
     "metadata": {},
     "output_type": "execute_result"
    }
   ],
   "source": [
    "d11 = pd.DataFrame()\n",
    "\n",
    "d11[\"sexo\"] = dados11.V0302\n",
    "d11 = d11[~dados11.V0302.isnull()]\n",
    "d11[\"aposentado\"] = dados11.V9122\n",
    "d11 = d11[~dados11.V9122.isnull()]\n",
    "d11[\"renda\"] = dados11.V4750 #renda per capita\n",
    "d11 = d11[~dados11.V4750.isnull()]\n",
    "d11[\"faixarenda\"] = dados11.V4750\n",
    "d11[\"rendaSM\"] = dados11.V4750 #renda em salarios minimos (renda/salriominimo)\n",
    "d11[\"regiao\"] = dados11.UF\n",
    "d11 = d11[~dados11.UF.isnull()]\n",
    "d11[\"anostrabalho\"] = dados11.V9611\n",
    "d11 = d11[~dados11.V9611.isnull()]\n",
    "\n",
    "d11.sexo = d11.sexo.astype('category')\n",
    "d11.sexo.cat.categories = ('Masculino', 'Feminino')\n",
    "d11.aposentado = d11.aposentado.astype('category')\n",
    "d11.aposentado.cat.categories = ('Sim', 'Não')\n",
    "d11 = d11[dados11.V9122 == 2] #pegar só aposentaods\n",
    "d11 = d11[d11.renda != 999999999999] #tira os nao declarados\n",
    "d11 = d11[d11.renda < 250000]\n",
    "d11 = d11[d11.renda < 10000]\n",
    "\n",
    "\n",
    "salminimo11 = 545\n",
    "\n",
    "\n",
    "\n",
    "d11.faixarenda[(dados11.V4720 == 0)] = 0\n",
    "d11.faixarenda[(dados11.V4720 > 0) & (dados11.V4720 <= (salminimo11/4))] = 1\n",
    "d11.faixarenda[(dados11.V4720 > (salminimo11/4)) & (dados11.V4720 <= (salminimo11/2))] = 2\n",
    "d11.faixarenda[(dados11.V4720 > (salminimo11/2)) & (dados11.V4720 <= salminimo11)] = 3\n",
    "d11.faixarenda[(dados11.V4720 > salminimo11) & (dados11.V4720 <= (salminimo11*2))] = 4\n",
    "d11.faixarenda[(dados11.V4720 > (salminimo11*2)) & (dados11.V4720 <= (salminimo11*3))] = 5\n",
    "d11.faixarenda[(dados11.V4720 > (salminimo11*3)) & (dados11.V4720 <= (salminimo11*5))] = 6\n",
    "d11.faixarenda[(dados11.V4720 > (salminimo11*5))] = 7\n",
    "\n",
    "#print(d11.faixarenda.describe())\n",
    "d11.faixarenda = d11.faixarenda.astype('category')\n",
    "#d11.faixarenda.cat.categories = ('Sem renda' ,'Até ¼ do salario minimo', 'Mais de ¼ até ½ salário mínimo', 'Mais de ½ até 1 salário mínimo', 'Mais de 1 até 2 salários mínimos', 'Mais de 2 até 3 salários mínimos', 'Mais de 3 até 5 salários mínimos', 'Mais de 5 salários mínimos')\n",
    "d11.faixarenda.cat.categories = ('Mais de ½ até 1 salário mínimo', 'Mais de 1 até 2 salários mínimos', 'Mais de 2 até 3 salários mínimos', 'Mais de 3 até 5 salários mínimos', 'Mais de 5 salários mínimos')\n",
    "\n",
    "d11.rendaSM= d11.rendaSM/salminimo11\n",
    "\n",
    "\n",
    "d11.regiao[(dados11.UF >= 10) & (dados11.UF < 20)] = 0\n",
    "d11.regiao[(dados11.UF >= 20) & (dados11.UF < 30)] = 1\n",
    "d11.regiao[(dados11.UF >= 30) & (dados11.UF < 40)] = 2\n",
    "d11.regiao[(dados11.UF >= 40) & (dados11.UF < 50)] = 3\n",
    "d11.regiao[(dados11.UF >= 50) & (dados11.UF < 60)] = 4\n",
    "\n",
    "d11.regiao = d11.regiao.astype('category')\n",
    "d11.regiao.cat.categories = ('Norte', 'Nordeste', 'Sudeste', 'Sul', 'Centro-Oeste')\n",
    "\n",
    "d11 = d11[d11.regiao == 'Sul'] #Só o sul\n",
    "\n",
    "print(\">>>>2011<<<<<\")\n",
    "d11.head()"
   ]
  },
  {
   "cell_type": "markdown",
   "metadata": {},
   "source": [
    "### Para ter uma noção básica de como estão distribuidos od grupos temos graficos de barras com as frequências relativas de cada gênero por ano."
   ]
  },
  {
   "cell_type": "code",
   "execution_count": 42,
   "metadata": {
    "collapsed": false,
    "scrolled": false
   },
   "outputs": [
    {
     "name": "stdout",
     "output_type": "stream",
     "text": [
      "Frequências relativas por SEXO (2014):\n",
      "Masculino    58.1\n",
      "Feminino     41.9\n",
      "dtype: float64 \n",
      "\n"
     ]
    },
    {
     "data": {
      "text/plain": [
       "<matplotlib.text.Text at 0x21e8ad147f0>"
      ]
     },
     "execution_count": 42,
     "metadata": {},
     "output_type": "execute_result"
    },
    {
     "data": {
      "image/png": "[encoded data removed]",
      "text/plain": [
       "<matplotlib.figure.Figure at 0x21e8acf8438>"
      ]
     },
     "metadata": {},
     "output_type": "display_data"
    }
   ],
   "source": [
    "n=d14.shape[0] #numero de linhas\n",
    "print('Frequências relativas por SEXO (2014):')\n",
    "ut1 = (d14.sexo.value_counts()/n*100).round(decimals=1)\n",
    "print(ut1,'\\n')\n",
    "plot = ut1.plot(kind='bar',title='Sexo (2014)',figsize=(6, 6),color=('b','r'))\n",
    "plt.ylabel('Freq.Relativa (em%)')\n",
    "plt.xlabel('Sexo')"
   ]
  },
  {
   "cell_type": "code",
   "execution_count": 43,
   "metadata": {
    "collapsed": false
   },
   "outputs": [
    {
     "name": "stdout",
     "output_type": "stream",
     "text": [
      "Frequências relativas por SEXO (2013):\n",
      "Masculino    59.3\n",
      "Feminino     40.7\n",
      "dtype: float64 \n",
      "\n"
     ]
    },
    {
     "data": {
      "text/plain": [
       "<matplotlib.text.Text at 0x21e840e8ac8>"
      ]
     },
     "execution_count": 43,
     "metadata": {},
     "output_type": "execute_result"
    },
    {
     "data": {
      "image/png": "[encoded data removed]",
      "text/plain": [
       "<matplotlib.figure.Figure at 0x21e840ff748>"
      ]
     },
     "metadata": {},
     "output_type": "display_data"
    }
   ],
   "source": [
    "n13=d13.shape[0] #numero de linhas\n",
    "print('Frequências relativas por SEXO (2013):')\n",
    "ut13 = (d13.sexo.value_counts()/n13*100).round(decimals=1)\n",
    "print(ut13,'\\n')\n",
    "plot = ut13.plot(kind='bar',title='Sexo (2013)',figsize=(6, 6),color=('b','r'))\n",
    "plt.ylabel('Freq.Relativa (em%)')\n",
    "plt.xlabel('Sexo')"
   ]
  },
  {
   "cell_type": "code",
   "execution_count": 44,
   "metadata": {
    "collapsed": false
   },
   "outputs": [
    {
     "name": "stdout",
     "output_type": "stream",
     "text": [
      "Frequências relativas por SEXO (2011):\n",
      "Masculino    60.3\n",
      "Feminino     39.7\n",
      "dtype: float64 \n",
      "\n"
     ]
    },
    {
     "data": {
      "text/plain": [
       "<matplotlib.text.Text at 0x21e8ab5a0f0>"
      ]
     },
     "execution_count": 44,
     "metadata": {},
     "output_type": "execute_result"
    },
    {
     "data": {
      "image/png": "[encoded data removed]",
      "text/plain": [
       "<matplotlib.figure.Figure at 0x21e8ad2d5f8>"
      ]
     },
     "metadata": {},
     "output_type": "display_data"
    }
   ],
   "source": [
    "n11=d11.shape[0] #numero de linhas\n",
    "print('Frequências relativas por SEXO (2011):')\n",
    "ut11 = (d11.sexo.value_counts()/n11*100).round(decimals=1)\n",
    "print(ut11,'\\n')\n",
    "plot = ut11.plot(kind='bar',title='Sexo (2011)',figsize=(6, 6),color=('b','r'))\n",
    "plt.ylabel('Freq.Relativa (em%)')\n",
    "plt.xlabel('Sexo')"
   ]
  },
  {
   "cell_type": "markdown",
   "metadata": {},
   "source": [
    "### Nada mais justo que tambem analisar as frequencias relativas quanto a faixa de renda. Percebe-se pelo grafico que as faixas tem frequencias equivalentes. "
   ]
  },
  {
   "cell_type": "code",
   "execution_count": 20,
   "metadata": {
    "collapsed": false
   },
   "outputs": [
    {
     "name": "stdout",
     "output_type": "stream",
     "text": [
      "Frequências relativas por Faixa de renda (2014):\n",
      "Mais de 5 salários mínimos          22.7\n",
      "Mais de 1 até 2 salários mínimos    21.0\n",
      "Mais de 2 até 3 salários mínimos    19.8\n",
      "Mais de 3 até 5 salários mínimos    19.6\n",
      "Mais de ½ até 1 salário mínimo      16.9\n",
      "dtype: float64 \n",
      "\n"
     ]
    },
    {
     "data": {
      "text/plain": [
       "<matplotlib.text.Text at 0x21e80dfe2b0>"
      ]
     },
     "execution_count": 20,
     "metadata": {},
     "output_type": "execute_result"
    },
    {
     "data": {
      "image/png": "[encoded data removed]",
      "text/plain": [
       "<matplotlib.figure.Figure at 0x21e80412390>"
      ]
     },
     "metadata": {},
     "output_type": "display_data"
    }
   ],
   "source": [
    "print('Frequências relativas por Faixa de renda (2014):')\n",
    "ut2 = (d14.faixarenda.value_counts()/n*100).round(decimals=1)\n",
    "print(ut2,'\\n')\n",
    "plot = ut2.plot(kind='pie',title='Faixa de Renda (2014)',autopct='%.1f',figsize=(6, 6))\n",
    "plot.set_ylabel('')"
   ]
  },
  {
   "cell_type": "code",
   "execution_count": 21,
   "metadata": {
    "collapsed": false
   },
   "outputs": [
    {
     "name": "stdout",
     "output_type": "stream",
     "text": [
      "Frequências relativas por Faixa de renda (2013):\n",
      "Mais de 5 salários mínimos          21.6\n",
      "Mais de 1 até 2 salários mínimos    20.8\n",
      "Mais de 2 até 3 salários mínimos    20.8\n",
      "Mais de 3 até 5 salários mínimos    20.7\n",
      "Mais de ½ até 1 salário mínimo      16.0\n",
      "dtype: float64 \n",
      "\n"
     ]
    },
    {
     "data": {
      "text/plain": [
       "<matplotlib.text.Text at 0x21e801c7c88>"
      ]
     },
     "execution_count": 21,
     "metadata": {},
     "output_type": "execute_result"
    },
    {
     "data": {
      "image/png": "[encoded data removed]",
      "text/plain": [
       "<matplotlib.figure.Figure at 0x21e80dd5048>"
      ]
     },
     "metadata": {},
     "output_type": "display_data"
    }
   ],
   "source": [
    "print('Frequências relativas por Faixa de renda (2013):')\n",
    "ut23 = (d13.faixarenda.value_counts()/n13*100).round(decimals=1)\n",
    "print(ut23,'\\n')\n",
    "plot = ut23.plot(kind='pie',title='Faixa de Renda (2013)',autopct='%.1f',figsize=(6, 6))\n",
    "plot.set_ylabel('')"
   ]
  },
  {
   "cell_type": "code",
   "execution_count": 22,
   "metadata": {
    "collapsed": false
   },
   "outputs": [
    {
     "name": "stdout",
     "output_type": "stream",
     "text": [
      "Frequências relativas por Faixa de renda (2011):\n",
      "Mais de 5 salários mínimos          23.2\n",
      "Mais de 3 até 5 salários mínimos    20.8\n",
      "Mais de 1 até 2 salários mínimos    19.2\n",
      "Mais de ½ até 1 salário mínimo      18.9\n",
      "Mais de 2 até 3 salários mínimos    17.8\n",
      "dtype: float64 \n",
      "\n"
     ]
    },
    {
     "data": {
      "text/plain": [
       "<matplotlib.text.Text at 0x21e81082978>"
      ]
     },
     "execution_count": 22,
     "metadata": {},
     "output_type": "execute_result"
    },
    {
     "data": {
      "image/png": "[encoded data removed]",
      "text/plain": [
       "<matplotlib.figure.Figure at 0x21e801f64a8>"
      ]
     },
     "metadata": {},
     "output_type": "display_data"
    }
   ],
   "source": [
    "print('Frequências relativas por Faixa de renda (2011):')\n",
    "ut21 = (d11.faixarenda.value_counts()/n11*100).round(decimals=1)\n",
    "print(ut21,'\\n')\n",
    "plot = ut21.plot(kind='pie',title='Faixa de Renda (2011)',autopct='%.1f',figsize=(6, 6))\n",
    "plot.set_ylabel('')"
   ]
  },
  {
   "cell_type": "markdown",
   "metadata": {},
   "source": [
    "### Juntando as duas variaveis acima, temos a seguinte tabela e grafico. Podemos observar que, nos tres anos, as mulheres sempre são maioria na categoria 'mais de 1/2 até 1 salário mínimo' enquanto os homens são maioria esmagadora a partir de 3 salários mínimos."
   ]
  },
  {
   "cell_type": "code",
   "execution_count": 29,
   "metadata": {
    "collapsed": false
   },
   "outputs": [
    {
     "name": "stdout",
     "output_type": "stream",
     "text": [
      "Tabela Cruzada (sexo/renda[2014]) por total de COLUNAS (em %):\n"
     ]
    },
    {
     "data": {
      "text/html": [
       "<div>\n",
       "<table border=\"1\" class=\"dataframe\">\n",
       "  <thead>\n",
       "    <tr style=\"text-align: right;\">\n",
       "      <th>RENDA</th>\n",
       "      <th>Mais de ½ até 1 salário mínimo</th>\n",
       "      <th>Mais de 1 até 2 salários mínimos</th>\n",
       "      <th>Mais de 2 até 3 salários mínimos</th>\n",
       "      <th>Mais de 3 até 5 salários mínimos</th>\n",
       "      <th>Mais de 5 salários mínimos</th>\n",
       "      <th>All</th>\n",
       "    </tr>\n",
       "    <tr>\n",
       "      <th>SEXO</th>\n",
       "      <th></th>\n",
       "      <th></th>\n",
       "      <th></th>\n",
       "      <th></th>\n",
       "      <th></th>\n",
       "      <th></th>\n",
       "    </tr>\n",
       "  </thead>\n",
       "  <tbody>\n",
       "    <tr>\n",
       "      <th>Masculino</th>\n",
       "      <td>44</td>\n",
       "      <td>49</td>\n",
       "      <td>53</td>\n",
       "      <td>71</td>\n",
       "      <td>70</td>\n",
       "      <td>58</td>\n",
       "    </tr>\n",
       "    <tr>\n",
       "      <th>Feminino</th>\n",
       "      <td>56</td>\n",
       "      <td>51</td>\n",
       "      <td>47</td>\n",
       "      <td>29</td>\n",
       "      <td>30</td>\n",
       "      <td>42</td>\n",
       "    </tr>\n",
       "    <tr>\n",
       "      <th>All</th>\n",
       "      <td>100</td>\n",
       "      <td>100</td>\n",
       "      <td>100</td>\n",
       "      <td>100</td>\n",
       "      <td>100</td>\n",
       "      <td>100</td>\n",
       "    </tr>\n",
       "  </tbody>\n",
       "</table>\n",
       "</div>"
      ],
      "text/plain": [
       "RENDA      Mais de ½ até 1 salário mínimo  Mais de 1 até 2 salários mínimos  \\\n",
       "SEXO                                                                          \n",
       "Masculino                              44                                49   \n",
       "Feminino                               56                                51   \n",
       "All                                   100                               100   \n",
       "\n",
       "RENDA      Mais de 2 até 3 salários mínimos  Mais de 3 até 5 salários mínimos  \\\n",
       "SEXO                                                                            \n",
       "Masculino                                53                                71   \n",
       "Feminino                                 47                                29   \n",
       "All                                     100                               100   \n",
       "\n",
       "RENDA      Mais de 5 salários mínimos  All  \n",
       "SEXO                                        \n",
       "Masculino                          70   58  \n",
       "Feminino                           30   42  \n",
       "All                               100  100  "
      ]
     },
     "execution_count": 29,
     "metadata": {},
     "output_type": "execute_result"
    },
    {
     "data": {
      "image/png": "[encoded data removed]",
      "text/plain": [
       "<matplotlib.figure.Figure at 0x21e8318ff28>"
      ]
     },
     "metadata": {},
     "output_type": "display_data"
    }
   ],
   "source": [
    "ct=pd.crosstab(d14.sexo,d14.faixarenda,margins=True,rownames=['SEXO'], colnames=['RENDA'])\n",
    "ct2=(ct/len(d14)*100).round(decimals=0)\n",
    "#Função que divide cada valor da tabela cruzada pelo total da última linha (quando axis=0) ou da última coluna (quando axis=1)\n",
    "#Retorna tabela cruzada com valores sem casa decimais\n",
    "#https://www.analyticsvidhya.com/blog/2016/01/12-pandas-techniques-python-data-manipulation/\n",
    "def percConvert(tab):\n",
    "  return (tab/float(tab[-1])*100).round(decimals=0)\n",
    "print('Tabela Cruzada (sexo/renda[2014]) por total de COLUNAS (em %):')\n",
    "ct2=pd.crosstab(d14.sexo,d14.faixarenda,margins=True,rownames=['SEXO'], colnames=['RENDA']).apply(percConvert, axis=0)\n",
    "ct4 = pd.crosstab(d14.faixarenda,d14.sexo,margins=True,rownames=['RENDA'], colnames=['SEXO'])\n",
    "ct4 = (ct4/len(d14)*100).round(decimals=0)\n",
    "plot = ct4.plot(kind='bar', color = ('b', 'r', 'w'))\n",
    "plt.legend(bbox_to_anchor=(1.05, 1), loc=2, borderaxespad=0.)\n",
    "plt.ylabel('Freq.Relativa (em%)')\n",
    "plt.title('2014')\n",
    "ct2"
   ]
  },
  {
   "cell_type": "code",
   "execution_count": 32,
   "metadata": {
    "collapsed": false
   },
   "outputs": [
    {
     "name": "stdout",
     "output_type": "stream",
     "text": [
      "Tabela Cruzada (sexo/renda[2013]) por total de COLUNAS (em %):\n"
     ]
    },
    {
     "data": {
      "text/html": [
       "<div>\n",
       "<table border=\"1\" class=\"dataframe\">\n",
       "  <thead>\n",
       "    <tr style=\"text-align: right;\">\n",
       "      <th>RENDA</th>\n",
       "      <th>Mais de ½ até 1 salário mínimo</th>\n",
       "      <th>Mais de 1 até 2 salários mínimos</th>\n",
       "      <th>Mais de 2 até 3 salários mínimos</th>\n",
       "      <th>Mais de 3 até 5 salários mínimos</th>\n",
       "      <th>Mais de 5 salários mínimos</th>\n",
       "      <th>All</th>\n",
       "    </tr>\n",
       "    <tr>\n",
       "      <th>SEXO</th>\n",
       "      <th></th>\n",
       "      <th></th>\n",
       "      <th></th>\n",
       "      <th></th>\n",
       "      <th></th>\n",
       "      <th></th>\n",
       "    </tr>\n",
       "  </thead>\n",
       "  <tbody>\n",
       "    <tr>\n",
       "      <th>Masculino</th>\n",
       "      <td>40</td>\n",
       "      <td>55</td>\n",
       "      <td>58</td>\n",
       "      <td>71</td>\n",
       "      <td>68</td>\n",
       "      <td>59</td>\n",
       "    </tr>\n",
       "    <tr>\n",
       "      <th>Feminino</th>\n",
       "      <td>60</td>\n",
       "      <td>45</td>\n",
       "      <td>42</td>\n",
       "      <td>29</td>\n",
       "      <td>32</td>\n",
       "      <td>41</td>\n",
       "    </tr>\n",
       "    <tr>\n",
       "      <th>All</th>\n",
       "      <td>100</td>\n",
       "      <td>100</td>\n",
       "      <td>100</td>\n",
       "      <td>100</td>\n",
       "      <td>100</td>\n",
       "      <td>100</td>\n",
       "    </tr>\n",
       "  </tbody>\n",
       "</table>\n",
       "</div>"
      ],
      "text/plain": [
       "RENDA      Mais de ½ até 1 salário mínimo  Mais de 1 até 2 salários mínimos  \\\n",
       "SEXO                                                                          \n",
       "Masculino                              40                                55   \n",
       "Feminino                               60                                45   \n",
       "All                                   100                               100   \n",
       "\n",
       "RENDA      Mais de 2 até 3 salários mínimos  Mais de 3 até 5 salários mínimos  \\\n",
       "SEXO                                                                            \n",
       "Masculino                                58                                71   \n",
       "Feminino                                 42                                29   \n",
       "All                                     100                               100   \n",
       "\n",
       "RENDA      Mais de 5 salários mínimos  All  \n",
       "SEXO                                        \n",
       "Masculino                          68   59  \n",
       "Feminino                           32   41  \n",
       "All                               100  100  "
      ]
     },
     "execution_count": 32,
     "metadata": {},
     "output_type": "execute_result"
    },
    {
     "data": {
      "image/png": "[encoded data removed]",
      "text/plain": [
       "<matplotlib.figure.Figure at 0x21e83369550>"
      ]
     },
     "metadata": {},
     "output_type": "display_data"
    }
   ],
   "source": [
    "ct13=pd.crosstab(d13.sexo,d13.faixarenda,margins=True,rownames=['SEXO'], colnames=['RENDA'])\n",
    "ct23=(ct13/len(d13)*100).round(decimals=0)\n",
    "print('Tabela Cruzada (sexo/renda[2013]) por total de COLUNAS (em %):')\n",
    "ct23=pd.crosstab(d13.sexo,d13.faixarenda,margins=True,rownames=['SEXO'], colnames=['RENDA']).apply(percConvert, axis=0)\n",
    "ct43 = pd.crosstab(d13.faixarenda,d13.sexo,margins=True,rownames=['RENDA'], colnames=['SEXO'])\n",
    "ct43 = (ct43/len(d13)*100).round(decimals=0)\n",
    "plot = ct43.plot(kind='bar', color = ('b', 'r', 'w'))\n",
    "plt.legend(bbox_to_anchor=(1.05, 1), loc=2, borderaxespad=0.)\n",
    "plt.ylabel('Freq.Relativa (em%)')\n",
    "plt.title('2013')\n",
    "ct23"
   ]
  },
  {
   "cell_type": "code",
   "execution_count": 31,
   "metadata": {
    "collapsed": false
   },
   "outputs": [
    {
     "name": "stdout",
     "output_type": "stream",
     "text": [
      "Tabela Cruzada (sexo/renda[2011]) por total de COLUNAS (em %):\n"
     ]
    },
    {
     "data": {
      "text/html": [
       "<div>\n",
       "<table border=\"1\" class=\"dataframe\">\n",
       "  <thead>\n",
       "    <tr style=\"text-align: right;\">\n",
       "      <th>RENDA</th>\n",
       "      <th>Mais de ½ até 1 salário mínimo</th>\n",
       "      <th>Mais de 1 até 2 salários mínimos</th>\n",
       "      <th>Mais de 2 até 3 salários mínimos</th>\n",
       "      <th>Mais de 3 até 5 salários mínimos</th>\n",
       "      <th>Mais de 5 salários mínimos</th>\n",
       "      <th>All</th>\n",
       "    </tr>\n",
       "    <tr>\n",
       "      <th>SEXO</th>\n",
       "      <th></th>\n",
       "      <th></th>\n",
       "      <th></th>\n",
       "      <th></th>\n",
       "      <th></th>\n",
       "      <th></th>\n",
       "    </tr>\n",
       "  </thead>\n",
       "  <tbody>\n",
       "    <tr>\n",
       "      <th>Masculino</th>\n",
       "      <td>41</td>\n",
       "      <td>53</td>\n",
       "      <td>61</td>\n",
       "      <td>72</td>\n",
       "      <td>71</td>\n",
       "      <td>60</td>\n",
       "    </tr>\n",
       "    <tr>\n",
       "      <th>Feminino</th>\n",
       "      <td>59</td>\n",
       "      <td>47</td>\n",
       "      <td>39</td>\n",
       "      <td>28</td>\n",
       "      <td>29</td>\n",
       "      <td>40</td>\n",
       "    </tr>\n",
       "    <tr>\n",
       "      <th>All</th>\n",
       "      <td>100</td>\n",
       "      <td>100</td>\n",
       "      <td>100</td>\n",
       "      <td>100</td>\n",
       "      <td>100</td>\n",
       "      <td>100</td>\n",
       "    </tr>\n",
       "  </tbody>\n",
       "</table>\n",
       "</div>"
      ],
      "text/plain": [
       "RENDA      Mais de ½ até 1 salário mínimo  Mais de 1 até 2 salários mínimos  \\\n",
       "SEXO                                                                          \n",
       "Masculino                              41                                53   \n",
       "Feminino                               59                                47   \n",
       "All                                   100                               100   \n",
       "\n",
       "RENDA      Mais de 2 até 3 salários mínimos  Mais de 3 até 5 salários mínimos  \\\n",
       "SEXO                                                                            \n",
       "Masculino                                61                                72   \n",
       "Feminino                                 39                                28   \n",
       "All                                     100                               100   \n",
       "\n",
       "RENDA      Mais de 5 salários mínimos  All  \n",
       "SEXO                                        \n",
       "Masculino                          71   60  \n",
       "Feminino                           29   40  \n",
       "All                               100  100  "
      ]
     },
     "execution_count": 31,
     "metadata": {},
     "output_type": "execute_result"
    },
    {
     "data": {
      "image/png": "[encoded data removed]",
      "text/plain": [
       "<matplotlib.figure.Figure at 0x21e83223e48>"
      ]
     },
     "metadata": {},
     "output_type": "display_data"
    }
   ],
   "source": [
    "ct11=pd.crosstab(d11.sexo,d11.faixarenda,margins=True,rownames=['SEXO'], colnames=['RENDA'])\n",
    "ct21=(ct11/len(d11)*100).round(decimals=0)\n",
    "print('Tabela Cruzada (sexo/renda[2011]) por total de COLUNAS (em %):')\n",
    "ct21=pd.crosstab(d11.sexo,d11.faixarenda,margins=True,rownames=['SEXO'], colnames=['RENDA']).apply(percConvert, axis=0)\n",
    "ct41 = pd.crosstab(d11.faixarenda,d11.sexo,margins=True,rownames=['RENDA'], colnames=['SEXO'])\n",
    "ct41 = (ct41/len(d11)*100).round(decimals=0)\n",
    "plot = ct41.plot(kind='bar', color = ('b', 'r', 'w'))\n",
    "plt.legend(bbox_to_anchor=(1.05, 1), loc=2, borderaxespad=0.)\n",
    "plt.ylabel('Freq.Relativa (em%)')\n",
    "plt.title('2011')\n",
    "ct21"
   ]
  },
  {
   "cell_type": "markdown",
   "metadata": {},
   "source": [
    "### Abaixo temos BOXPLOTs da renda  mensal per capita (em qtdade de de salarios mínimos da época). É possivel observar uma desigualdade de gênero constante ao longo do 3 anos."
   ]
  },
  {
   "cell_type": "code",
   "execution_count": 41,
   "metadata": {
    "collapsed": false
   },
   "outputs": [
    {
     "data": {
      "text/plain": [
       "<matplotlib.axes._subplots.AxesSubplot at 0x21e8402da58>"
      ]
     },
     "execution_count": 41,
     "metadata": {},
     "output_type": "execute_result"
    },
    {
     "data": {
      "image/png": "[encoded data removed]",
      "text/plain": [
       "<matplotlib.figure.Figure at 0x21e84037080>"
      ]
     },
     "metadata": {},
     "output_type": "display_data"
    }
   ],
   "source": [
    "Box2011 = pd.DataFrame([d11.rendaSM[d11.sexo=='Masculino'], d11.rendaSM[d11.sexo=='Feminino'], d13.rendaSM[d13.sexo=='Masculino'], d13.rendaSM[d13.sexo=='Feminino'], d14.rendaSM[d14.sexo=='Feminino'], d14.rendaSM[d14.sexo=='Masculino']], index=('Mulher2011','Homem2011','Mulher2013','Homem2013','Mulher2014','Homem2014'))\n",
    "Box2011 =Box2011.T\n",
    "Box2011.plot.box(ylim=(0,7), figsize=(15,6), title=('RENDAS'))"
   ]
  },
  {
   "cell_type": "markdown",
   "metadata": {},
   "source": [
    " ### Tentando achar uma causa para renda, foi feito o seguinte gráfico de dispersão. Além dele tem foi calculado o coeficiente de correlação. Como é um número muuito pequeno (proximo de 0), podemos dizer que não há relação entre essas variaveis. (tudo em 2014)"
   ]
  },
  {
   "cell_type": "code",
   "execution_count": 38,
   "metadata": {
    "collapsed": true
   },
   "outputs": [],
   "source": [
    "Masc2014 = d14[d14.sexo=='Masculino']\n",
    "Fem2014 = d14[d14.sexo=='Feminino']"
   ]
  },
  {
   "cell_type": "code",
   "execution_count": 39,
   "metadata": {
    "collapsed": false
   },
   "outputs": [
    {
     "data": {
      "image/png": "[encoded data removed]",
      "text/plain": [
       "<matplotlib.figure.Figure at 0x21e81ac9dd8>"
      ]
     },
     "metadata": {},
     "output_type": "display_data"
    },
    {
     "name": "stdout",
     "output_type": "stream",
     "text": [
      "Correlação entre Anos de trabalho e Renda (HOMENS):  0.0656703038545\n"
     ]
    }
   ],
   "source": [
    "plt.plot(Masc2014.anostrabalho, Masc2014.renda, 'bo')\n",
    "plt.title('Anos de Trabalho x Renda (HOMENS)')\n",
    "plt.xlabel('Anos')\n",
    "plt.ylabel('Renda')\n",
    "plt.show()\n",
    "print(\"Correlação entre Anos de trabalho e Renda (HOMENS): \", np.corrcoef(Masc2014.anostrabalho,Masc2014.renda)[0,1])"
   ]
  },
  {
   "cell_type": "code",
   "execution_count": 40,
   "metadata": {
    "collapsed": false
   },
   "outputs": [
    {
     "data": {
      "image/png": "[encoded data removed]",
      "text/plain": [
       "<matplotlib.figure.Figure at 0x21e83fd0fd0>"
      ]
     },
     "metadata": {},
     "output_type": "display_data"
    },
    {
     "name": "stdout",
     "output_type": "stream",
     "text": [
      "Correlação entre Anos de trabalho e Renda (MULHERES):  0.0159979239227\n"
     ]
    }
   ],
   "source": [
    "plt.plot(Fem2014.anostrabalho, Fem2014.renda, 'ro')\n",
    "plt.title('Anos de Trabalho x Renda (MULHERES)')\n",
    "plt.xlabel('Anos')\n",
    "plt.ylabel('Renda')\n",
    "plt.show()\n",
    "\n",
    "print(\"Correlação entre Anos de trabalho e Renda (MULHERES): \", np.corrcoef(Fem2014.anostrabalho,Fem2014.renda)[0,1])"
   ]
  },
  {
   "cell_type": "markdown",
   "metadata": {
    "collapsed": false
   },
   "source": [
    "___\n",
    "## Conclusão "
   ]
  },
  {
   "cell_type": "markdown",
   "metadata": {
    "collapsed": true
   },
   "source": [
    "Pode-se concluir que há uma desigualdade de genêro, provada pelas diferenças de renda mensal per capita, nos aposentados da região Sul do Brasil. Olhando para renda na forma de salarios minimos é possivel observar que essa desigualdade se manteve bem parecida nos anos de 2011, 2013 e 2014. Alem disso, descobrimos que a quantidade de anos de trabalho nao influencia na renda do/a aposentado."
   ]
  }
 ],
 "metadata": {
  "anaconda-cloud": {},
  "kernelspec": {
   "display_name": "Python 3",
   "language": "python",
   "name": "python3"
  },
  "language_info": {
   "codemirror_mode": {
    "name": "ipython",
    "version": 3
   },
   "file_extension": ".py",
   "mimetype": "text/x-python",
   "name": "python",
   "nbconvert_exporter": "python",
   "pygments_lexer": "ipython3",
   "version": "3.5.1"
  }
 },
 "nbformat": 4,
 "nbformat_minor": 0
}
