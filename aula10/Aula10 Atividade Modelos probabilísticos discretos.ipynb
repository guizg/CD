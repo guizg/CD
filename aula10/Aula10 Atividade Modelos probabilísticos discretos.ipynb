{
 "cells": [
  {
   "cell_type": "markdown",
   "metadata": {},
   "source": [
    "___\n",
    "# Atividade: Modelos probabilísticos discretos e Dados\n",
    "___\n",
    "\n",
    "## Aula 10\n",
    "\n",
    "**Referência de Leitura:**\n",
    "1. Magalhães e Lima (7ª. Edição): Seções 3.2 e 3.3\n",
    "\n",
    "**Hoje:**\n",
    "1.\tDescrever modelos discretos quanto aos resultados teóricos.\n",
    "2.\tExplicar a utilização de modelos probabilísticos no contexto da literatura estatística.\n",
    "3.\tContrastar resultados teóricos e empíricos.\n",
    "4.\tFechamento do conteúdo.\n",
    "\n",
    "**Próxima aula:**\n",
    "1. Leitura prévia necessária: Magalhães e Lima (7ª. Edição): Seção 5.1 (pág. 137) e Seção 5.2 (pág. 146).\n",
    "___"
   ]
  },
  {
   "cell_type": "code",
   "execution_count": 3,
   "metadata": {
    "collapsed": true
   },
   "outputs": [],
   "source": [
    "%matplotlib inline\n",
    "import pandas as pd\n",
    "import matplotlib.pyplot as plt\n",
    "\n",
    "from scipy import stats #importa apenas as funções de estatísticas da biblioteca SciPy.\n",
    "import itertools #importante para gerar todos os resultados possíveis!!\n",
    "from math import *\n"
   ]
  },
  {
   "cell_type": "markdown",
   "metadata": {},
   "source": [
    "___\n",
    "## <font color='blue'>Exercício 1</font>\n",
    "\n",
    "Um resistor de 100K Ohms comprado na Santa Efigênia tem probabilidade de falha de 5%, segundo um fabricante ruim.\n",
    "\n",
    "Ainda, assuma os resistores falham de forma independente entre si.\n",
    "\n",
    "Um aluno de engenharia compra um pacote contendo $n$ resistores.\n",
    "\n",
    "1. Assuma $n=3$ e faça os itens a seguir.\n",
    "  1. Monte o espaço amostral que combine todos os resultados possíveis de Falha e não Falha desses $n$ resistores. Ainda, calcule a probabilidade de cada resultado do espaço amostral acontecer.\n",
    "  2. Se $Y$ representa o número de resistores que falham em um pacotinho com $n$ resistores, então construa a distribuição de probabilidades de $Y$.\n",
    "  3. Calcule a média e o desvio padrão de $Y$. Interprete os resultados.\n",
    "    \n",
    "2. Assuma $n=7$ e repita os itens A) a C) anteriores. No caso de $n=7$ ou maiores quantidades de resistores em um pacotinho, qual a viabilidade de construir a distribuição de probabilidades do número de resistores com defeitos quando $n$ não é pequeno?\n",
    "    \n",
    "3. Encontre a distribuição de probabilidades de cada possível valor de $Y$ utilizando a distribuição Binomial para $n=3$ e $n=7$. Calcule também $E(X)$ e $Var(X)$. Compare com as distribuições de probabilidades obtidas nos itens anteriores e discuta porque esses valores são iguais ou diferentes!\n",
    "    \n",
    "> **DISTRIBUIÇÃO BINOMIAL - TEORIA:**\n",
    "\n",
    "> É responsável por modelar uma variável $Y$ definida pelo Número de sucessos em $n$ tentativas, cuja probabilidade de sucesso é dada por $p$. Assim, dizemos que $Y$~$Bin(n,p)$ e lê-se: $Y$ segue uma distribuição binomial com $n$ tentativas e $p$ como probabilidade de sucesso. \n",
    "\n",
    "> A função de probabilidade nesse caso é dada por:\n",
    "$P(Y=y)=\\left(\n",
    "\\begin{array}{c}\n",
    "    n \\\\\n",
    "    y\n",
    "\\end{array}\\right) p^y (1-p)^{(n-y)}$\n",
    "\n",
    "> Para um experimento ter as probabilidade dos números de sucessos modeladas por uma distribuição Binomial, o mesmo precisa ter as seguintes propriedades:\n",
    "* é uma contagem de $n$ repetições (ou tentativas ou ensaios) idênticas;\n",
    "* cada repetição tem apenas 2 resultados possíveis: um é denominado sucesso e o outro, fracasso;\n",
    "* a probabilidade de sucesso para cada ensaio é denominada $p$ e será constante em cada repetição. Então, a probabilidade de fracasso $(1-p)$ também não varia de tentativa para tentativa;\n",
    "* As tentativas são independentes.\n",
    "\n",
    "\n",
    "> **DISTRIBUIÇÃO BINOMIAL - PYTHON:** <sup> [https://en.wikipedia.org/wiki/SciPy]\n",
    "\n",
    "> Algumas funções úteis para desenvolver seu código: <sup> [http://docs.scipy.org/doc/scipy-0.16.1/reference/generated/scipy.stats.binom.html]\n",
    "* $P(Y=y)$: `stats.binom.pmf(y, n, p)`\n",
    "* $P(Y\\leq y)$: `stats.binom.cdf(y, n, p)`\n",
    "* $E(X)$ e $Var(X)$: `stats.binom.stats(n, p, moments='mv')`\n"
   ]
  },
  {
   "cell_type": "code",
   "execution_count": 4,
   "metadata": {
    "collapsed": false
   },
   "outputs": [
    {
     "data": {
      "text/plain": [
       "[('F', 'F', 'F'),\n",
       " ('F', 'F', 'N'),\n",
       " ('F', 'N', 'F'),\n",
       " ('F', 'N', 'N'),\n",
       " ('N', 'F', 'F'),\n",
       " ('N', 'F', 'N'),\n",
       " ('N', 'N', 'F'),\n",
       " ('N', 'N', 'N')]"
      ]
     },
     "execution_count": 4,
     "metadata": {},
     "output_type": "execute_result"
    }
   ],
   "source": [
    "#item 1\n",
    "n=3\n",
    "\n",
    "possibilidades = [\"F\", \"N\"]\n",
    "prob = {\"F\":0.05, \"N\":0.95}\n",
    "arranjos = itertools.product(possibilidades, repeat=3)\n",
    "espaco_amostral = list(arranjos)\n",
    "espaco_amostral"
   ]
  },
  {
   "cell_type": "code",
   "execution_count": 5,
   "metadata": {
    "collapsed": false
   },
   "outputs": [
    {
     "data": {
      "text/plain": [
       "[0.00012500000000000003,\n",
       " 0.0023750000000000004,\n",
       " 0.0023750000000000004,\n",
       " 0.045125,\n",
       " 0.0023750000000000004,\n",
       " 0.045125,\n",
       " 0.045125,\n",
       " 0.8573749999999999]"
      ]
     },
     "execution_count": 5,
     "metadata": {},
     "output_type": "execute_result"
    }
   ],
   "source": [
    "prob_linhas = []\n",
    "\n",
    "for res in espaco_amostral:\n",
    "    p = 1.0\n",
    "    for e in res:\n",
    "        p*=prob[e]\n",
    "    prob_linhas.append(p)\n",
    "\n",
    "prob_linhas"
   ]
  },
  {
   "cell_type": "code",
   "execution_count": 6,
   "metadata": {
    "collapsed": false
   },
   "outputs": [
    {
     "data": {
      "text/plain": [
       "0.9999999999999999"
      ]
     },
     "execution_count": 6,
     "metadata": {},
     "output_type": "execute_result"
    }
   ],
   "source": [
    "sum(prob_linhas)"
   ]
  },
  {
   "cell_type": "code",
   "execution_count": 7,
   "metadata": {
    "collapsed": false
   },
   "outputs": [
    {
     "data": {
      "text/plain": [
       "{0: 0.8573749999999999,\n",
       " 1: 0.135375,\n",
       " 2: 0.007125000000000001,\n",
       " 3: 0.00012500000000000003}"
      ]
     },
     "execution_count": 7,
     "metadata": {},
     "output_type": "execute_result"
    }
   ],
   "source": [
    "qtos_falham = {}\n",
    "\n",
    "for e in espaco_amostral:\n",
    "    q = e.count('F')\n",
    "    if q in qtos_falham:\n",
    "        qtos_falham[q] += prob_linhas[espaco_amostral.index(e)]\n",
    "    else:\n",
    "        qtos_falham[q] = prob_linhas[espaco_amostral.index(e)]\n",
    "\n",
    "qtos_falham"
   ]
  },
  {
   "cell_type": "code",
   "execution_count": 8,
   "metadata": {
    "collapsed": false
   },
   "outputs": [
    {
     "data": {
      "text/plain": [
       "0.15"
      ]
     },
     "execution_count": 8,
     "metadata": {},
     "output_type": "execute_result"
    }
   ],
   "source": [
    "media = 0\n",
    "for k in qtos_falham:\n",
    "    media += k*qtos_falham[k]\n",
    "    \n",
    "media"
   ]
  },
  {
   "cell_type": "code",
   "execution_count": 9,
   "metadata": {
    "collapsed": false
   },
   "outputs": [
    {
     "data": {
      "text/plain": [
       "1.4486200329969208"
      ]
     },
     "execution_count": 9,
     "metadata": {},
     "output_type": "execute_result"
    }
   ],
   "source": [
    "x = 0\n",
    "for k in qtos_falham:\n",
    "    x += (k^2)*qtos_falham[k]\n",
    "\n",
    "\n",
    "desvpad = sqrt(x-media*media)\n",
    "    \n",
    "desvpad"
   ]
  },
  {
   "cell_type": "code",
   "execution_count": null,
   "metadata": {
    "collapsed": true
   },
   "outputs": [],
   "source": []
  },
  {
   "cell_type": "code",
   "execution_count": 10,
   "metadata": {
    "collapsed": true
   },
   "outputs": [],
   "source": [
    "#item 2\n",
    "n=7"
   ]
  },
  {
   "cell_type": "markdown",
   "metadata": {
    "collapsed": true
   },
   "source": [
    "___\n",
    "## <font color='blue'>Exercício 2</font>\n",
    "\n",
    "Uma fábrica produz determinado veículo. O gerente de vendas fechou um negócio que implica na produção de pelo menos 110 unidades nos próximos dois meses. Para isso, será construída uma nova linha de montagem com capacidade para produzir em média 50 veículos por mês (considere meses de 30 dias). A linha funcionará ininterruptamente. Além disso, apenas um veículo é produzido por vez. Considere que um modelo Poisson seja adequado para a quantidade de veículos produzidos.\n",
    "   1. Qual a probabilidade  da produção ser igual a 100 veículos nos próximos dois meses?\n",
    "   2. Qual a probabilidade  da produção ser de pelo menos 100 veículos nos próximos dois meses?\n",
    "   3. Qual a probabilidade da produção ser entre 100 e 110 veículos nos próximos dois meses?\n",
    "   4. Se forem produzidos de pelo menos 100 veículos no próximo mês, qual a probabilidade do gerente cumprir a meta negociada?\n",
    "   5. Caso o prazo seja cumprido, o lucro será da ordem de $250$ mil, caso não seja, o lucro cai para $200$ mil. Qual é o lucro esperado e seu desvio-padrão?\n",
    "\n",
    "**Observação:** Explore os comandos de `stats.poisson`. <sup>[http://docs.scipy.org/doc/scipy/reference/generated/scipy.stats.poisson.html]\n"
   ]
  },
  {
   "cell_type": "code",
   "execution_count": null,
   "metadata": {
    "collapsed": true
   },
   "outputs": [],
   "source": []
  },
  {
   "cell_type": "markdown",
   "metadata": {},
   "source": [
    "___\n",
    "## <font color='blue'>Exercício 3</font> \n",
    "### <font color='red'>**Check para dia 13/09 em DUPLA **</font>\n",
    "\n",
    "Esse exercício irá explorar uma modelagem de dados reais.\n",
    "\n",
    "> **Confira alguns itens obrigatórios verificados durante a vistoria do Detran**\n",
    "\n",
    "> *Todos os veículos, novos ou velhos, precisam passar por uma vistoria todos os anos. (...) O motorista precisa estar atento a alguns itens obrigatórios. Tudo deve funcionar perfeitamente, apresentar bom estado de conservação e estar dentro do prazo de validade.*\n",
    "\n",
    "> <sup>Fonte: http://extra.globo.com/noticias/brasil/transito-seguro/confira-alguns-itens-obrigatorios-verificados-durante-vistoria-do-detran-10190355.html</sup>\n",
    "\n",
    "Essa matéria lista 14 itens que são inspecionados pelo Detran, dentre os quais têm-se: extintor de incêndio deve estar dentro do prazo de validade; pneus devem estar em bom estado de conservação; buzina deve funcionar perfeitamente; e cintos de segurança para todos os ocupantes do carro. Se, no final das contas, todos os 14 itens estiverem funcionando perfeitamente, o motorista irá feliz para casa assegurado de que seu carro está sem problemas com a vistoria.\n",
    "\n",
    "1. A base de dados `Carros.txt` apresenta, para cada um dos três mil carros de passeio vistoriados, duas informações: tipo de carro (1: Popular e 2: Não Popular) e quantidade de itens vistoriados em não conformidade (que pode variar de 0 a 14). \n",
    "    1. Considerando todos os carros, analise a quantidade de itens vistoriados em não conformidade. Pela tabela de frequências relativas, calcule a média e variância dessa quantidade. Interprete-os.\n",
    "    2. Assuma que a variável *Quantidade de itens em não conformidade* possa ser ajustada pelo modelo Binomial com parâmetros $n=14$ e $p=0,10$. Interprete esses parâmetros para o problema em questão e, ainda, discuta se as propriedades da distribuição Binomial estão satisfeitas para o problema aqui me questão.\n",
    "    \n",
    "    **Independente da sua resposta anterior, considere que a distribuição binomial seja adequada para modelar a variável de interesse nos próximos itens!**\n",
    "    3. Utilizando o método `stats.binom.pmf`, obtenha a probabilidade de cada uma das quantidades de itens em não conformidade quando $n=14$ e $p=0,10$. Calcule o valor esperado e a variância da quantidade de itens em não conformidade utilizando o método `stats.binom.stats` e via resultado da Tabela 4.4 do Magalhães e Lima (pág. 125).\n",
    "    4. Compare as probabilidades teóricas com as frequências relativas observadas nos dados. Para isso, tem-se, por exemplo, as duas opções abaixo para comparar se os resultados empíricos se encaixam com o modelo teórico proposto. \n",
    "        - A primeira opção gráfica contrasta a frequência relativa e a probabilidade teórica para uma determinada quantidade de itens em não conformidade! Vide Figura 3.4 do livro Magalhães e Lima (pág. 87). Ou seja, essa opção contrasta a frequência relativa em um valor de $y$ e a probabilidade pontual $P(Y=y)$.\n",
    "        - A segunda contrasta a frequência relativa acumulada com a probabilidade acumulada até determinada quantidade de itens em não conformidade. Ou seja, compara a frequência relativa acumulada até $y$ com a probabilidade acumulada $P(Y\\leq y)$.\n",
    "    Construa os gráficos de acordo com as duas opções e refine sua conclusão quanto ao uso do modelo teórico para ajustar a variável em questão!\n",
    "    5. Na prática, qual a necessidade de um modelo probabilístico já que se têm os dados observados?\n",
    "    6. Considerando apenas os carros populares, o modelo Binomial com parâmetros $n=14$ e $p=0,10$ é adequado para ajustar a variável Quantidade de itens em não conformidade? Se sim, justifique; caso não, sugira novos valores para os parâmetros da distribuição ajuste aos dados."
   ]
  },
  {
   "cell_type": "code",
   "execution_count": 33,
   "metadata": {
    "collapsed": false
   },
   "outputs": [
    {
     "name": "stdout",
     "output_type": "stream",
     "text": [
      "Esperamos trabalhar no diretório\n",
      "C:\\Users\\GuilhermeZaborowsky\\Documents\\Escola\\Insper\\Ciência dos Dados\n"
     ]
    },
    {
     "data": {
      "text/html": [
       "<div>\n",
       "<table border=\"1\" class=\"dataframe\">\n",
       "  <thead>\n",
       "    <tr style=\"text-align: right;\">\n",
       "      <th></th>\n",
       "      <th>Tipo</th>\n",
       "      <th>Quantidade</th>\n",
       "    </tr>\n",
       "  </thead>\n",
       "  <tbody>\n",
       "    <tr>\n",
       "      <th>1</th>\n",
       "      <td>1</td>\n",
       "      <td>0</td>\n",
       "    </tr>\n",
       "    <tr>\n",
       "      <th>2</th>\n",
       "      <td>1</td>\n",
       "      <td>2</td>\n",
       "    </tr>\n",
       "    <tr>\n",
       "      <th>3</th>\n",
       "      <td>1</td>\n",
       "      <td>2</td>\n",
       "    </tr>\n",
       "    <tr>\n",
       "      <th>4</th>\n",
       "      <td>1</td>\n",
       "      <td>3</td>\n",
       "    </tr>\n",
       "    <tr>\n",
       "      <th>5</th>\n",
       "      <td>1</td>\n",
       "      <td>1</td>\n",
       "    </tr>\n",
       "  </tbody>\n",
       "</table>\n",
       "</div>"
      ],
      "text/plain": [
       "   Tipo  Quantidade\n",
       "1     1           0\n",
       "2     1           2\n",
       "3     1           2\n",
       "4     1           3\n",
       "5     1           1"
      ]
     },
     "execution_count": 33,
     "metadata": {},
     "output_type": "execute_result"
    }
   ],
   "source": [
    "import os\n",
    "print('Esperamos trabalhar no diretório')\n",
    "print(os.getcwd())\n",
    "carros = pd.read_table('Carros.txt', sep=' ')\n",
    "carros.head()"
   ]
  },
  {
   "cell_type": "code",
   "execution_count": 63,
   "metadata": {
    "collapsed": false
   },
   "outputs": [
    {
     "name": "stdout",
     "output_type": "stream",
     "text": [
      "Frequências relativas:\n",
      "1    0.316667\n",
      "0    0.288000\n",
      "2    0.221333\n",
      "3    0.108333\n",
      "4    0.046333\n",
      "5    0.015667\n",
      "6    0.002667\n",
      "7    0.000667\n",
      "8    0.000333\n",
      "Name: Quantidade, dtype: float64 \n",
      "\n"
     ]
    },
    {
     "data": {
      "text/plain": [
       "[<matplotlib.lines.Line2D at 0x29d1ec510b8>]"
      ]
     },
     "execution_count": 63,
     "metadata": {},
     "output_type": "execute_result"
    },
    {
     "data": {
      "image/png": "[encoded data removed]",
      "text/plain": [
       "<matplotlib.figure.Figure at 0x29d1d5b3048>"
      ]
     },
     "metadata": {},
     "output_type": "display_data"
    }
   ],
   "source": [
    "n = carros.shape[0]\n",
    "#carros.Quantidade = carros.Quantidade.astype('category')\n",
    "print('Frequências relativas:')\n",
    "ut1 = (carros.Quantidade.value_counts()/n)\n",
    "\n",
    "\n",
    "print(ut1,'\\n')\n",
    "\n",
    "plt.plot(range(9),ut1, 'bo')"
   ]
  },
  {
   "cell_type": "code",
   "execution_count": 42,
   "metadata": {
    "collapsed": false
   },
   "outputs": [
    {
     "data": {
      "text/plain": [
       "1.3713333333333333"
      ]
     },
     "execution_count": 42,
     "metadata": {},
     "output_type": "execute_result"
    }
   ],
   "source": [
    "media = carros.Quantidade.mean()\n",
    "media"
   ]
  },
  {
   "cell_type": "code",
   "execution_count": 45,
   "metadata": {
    "collapsed": false
   },
   "outputs": [
    {
     "data": {
      "text/plain": [
       "1.5799715460709343"
      ]
     },
     "execution_count": 45,
     "metadata": {},
     "output_type": "execute_result"
    }
   ],
   "source": [
    "carros.Quantidade.var()"
   ]
  },
  {
   "cell_type": "code",
   "execution_count": 64,
   "metadata": {
    "collapsed": false
   },
   "outputs": [
    {
     "name": "stdout",
     "output_type": "stream",
     "text": [
      "A prob de dar  0  itens, é:  0.22876792455\n",
      "A prob de dar  1  itens, é:  0.355861215966\n",
      "A prob de dar  2  itens, é:  0.257010878198\n",
      "A prob de dar  3  itens, é:  0.114227056977\n",
      "A prob de dar  4  itens, é:  0.034902711854\n",
      "A prob de dar  5  itens, é:  0.00775615818978\n",
      "A prob de dar  6  itens, é:  0.00129269303163\n",
      "A prob de dar  7  itens, é:  0.00016415149608\n",
      "A prob de dar  8  itens, é:  1.595917323e-05\n",
      "A prob de dar  9  itens, é:  1.18216098e-06\n",
      "A prob de dar  10  itens, é:  6.567561e-08\n",
      "A prob de dar  11  itens, é:  2.65356e-09\n",
      "A prob de dar  12  itens, é:  7.371e-11\n",
      "A prob de dar  13  itens, é:  1.26e-12\n",
      "A prob de dar  14  itens, é:  1e-14\n"
     ]
    },
    {
     "data": {
      "text/plain": [
       "[<matplotlib.lines.Line2D at 0x29d1ecb7c18>]"
      ]
     },
     "execution_count": 64,
     "metadata": {},
     "output_type": "execute_result"
    },
    {
     "data": {
      "image/png": "[encoded data removed]",
      "text/plain": [
       "<matplotlib.figure.Figure at 0x29d1ec23c88>"
      ]
     },
     "metadata": {},
     "output_type": "display_data"
    }
   ],
   "source": [
    "pmfs=[]\n",
    "for i in range(15):\n",
    "    \n",
    "    pmf = stats.binom.pmf(i, 14, 0.1)\n",
    "    pmfs.append(pmf)\n",
    "    print(\"A prob de dar \",i,\" itens, é: \",pmf)\n",
    "    \n",
    "plt.plot(range(15), pmfs, 'bo')"
   ]
  },
  {
   "cell_type": "code",
   "execution_count": 52,
   "metadata": {
    "collapsed": false
   },
   "outputs": [
    {
     "data": {
      "text/plain": [
       "(array(1.4000000000000001), array(1.2600000000000002))"
      ]
     },
     "execution_count": 52,
     "metadata": {},
     "output_type": "execute_result"
    }
   ],
   "source": [
    " stats.binom.stats(14, 0.1, moments='mv')"
   ]
  },
  {
   "cell_type": "code",
   "execution_count": 53,
   "metadata": {
    "collapsed": false
   },
   "outputs": [
    {
     "data": {
      "text/plain": [
       "1.4000000000000001"
      ]
     },
     "execution_count": 53,
     "metadata": {},
     "output_type": "execute_result"
    }
   ],
   "source": [
    "med = 14*0.1\n",
    "med"
   ]
  },
  {
   "cell_type": "code",
   "execution_count": 56,
   "metadata": {
    "collapsed": false
   },
   "outputs": [
    {
     "data": {
      "text/plain": [
       "1.2600000000000002"
      ]
     },
     "execution_count": 56,
     "metadata": {},
     "output_type": "execute_result"
    }
   ],
   "source": [
    "vari = 14*0.1*(1-0.1)\n",
    "vari"
   ]
  },
  {
   "cell_type": "markdown",
   "metadata": {},
   "source": [
    "E) Ele da respostas mais rapido do que analisando os dados reais"
   ]
  },
  {
   "cell_type": "code",
   "execution_count": 59,
   "metadata": {
    "collapsed": false
   },
   "outputs": [
    {
     "data": {
      "text/html": [
       "<div>\n",
       "<table border=\"1\" class=\"dataframe\">\n",
       "  <thead>\n",
       "    <tr style=\"text-align: right;\">\n",
       "      <th></th>\n",
       "      <th>Tipo</th>\n",
       "      <th>Quantidade</th>\n",
       "    </tr>\n",
       "  </thead>\n",
       "  <tbody>\n",
       "    <tr>\n",
       "      <th>1</th>\n",
       "      <td>1</td>\n",
       "      <td>0</td>\n",
       "    </tr>\n",
       "    <tr>\n",
       "      <th>2</th>\n",
       "      <td>1</td>\n",
       "      <td>2</td>\n",
       "    </tr>\n",
       "    <tr>\n",
       "      <th>3</th>\n",
       "      <td>1</td>\n",
       "      <td>2</td>\n",
       "    </tr>\n",
       "    <tr>\n",
       "      <th>4</th>\n",
       "      <td>1</td>\n",
       "      <td>3</td>\n",
       "    </tr>\n",
       "    <tr>\n",
       "      <th>5</th>\n",
       "      <td>1</td>\n",
       "      <td>1</td>\n",
       "    </tr>\n",
       "  </tbody>\n",
       "</table>\n",
       "</div>"
      ],
      "text/plain": [
       "   Tipo  Quantidade\n",
       "1     1           0\n",
       "2     1           2\n",
       "3     1           2\n",
       "4     1           3\n",
       "5     1           1"
      ]
     },
     "execution_count": 59,
     "metadata": {},
     "output_type": "execute_result"
    }
   ],
   "source": [
    "carros2 = carros[carros.Tipo==1]\n",
    "carros2.head()"
   ]
  },
  {
   "cell_type": "code",
   "execution_count": 60,
   "metadata": {
    "collapsed": false
   },
   "outputs": [
    {
     "name": "stdout",
     "output_type": "stream",
     "text": [
      "Frequências relativas:\n",
      "2    0.295000\n",
      "1    0.283889\n",
      "3    0.166667\n",
      "0    0.149444\n",
      "4    0.072778\n",
      "5    0.026111\n",
      "6    0.004444\n",
      "7    0.001111\n",
      "8    0.000556\n",
      "Name: Quantidade, dtype: float64 \n",
      "\n"
     ]
    }
   ],
   "source": [
    "n2 = carros2.shape[0]\n",
    "#carros.Quantidade = carros.Quantidade.astype('category')\n",
    "print('Frequências relativas:')\n",
    "ut2 = (carros2.Quantidade.value_counts()/n2)\n",
    "\n",
    "\n",
    "print(ut2,'\\n')"
   ]
  },
  {
   "cell_type": "code",
   "execution_count": null,
   "metadata": {
    "collapsed": true
   },
   "outputs": [],
   "source": []
  }
 ],
 "metadata": {
  "anaconda-cloud": {},
  "kernelspec": {
   "display_name": "Python 3",
   "language": "python",
   "name": "python3"
  },
  "language_info": {
   "codemirror_mode": {
    "name": "ipython",
    "version": 3
   },
   "file_extension": ".py",
   "mimetype": "text/x-python",
   "name": "python",
   "nbconvert_exporter": "python",
   "pygments_lexer": "ipython3",
   "version": "3.5.1"
  }
 },
 "nbformat": 4,
 "nbformat_minor": 0
}
